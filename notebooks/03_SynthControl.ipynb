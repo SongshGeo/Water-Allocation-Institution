{
 "cells": [
  {
   "cell_type": "markdown",
   "id": "54220edb",
   "metadata": {},
   "source": [
    "## Synth Control Methods\n",
    "\n",
    "**Abstract:**\n",
    "One-sentence description\n",
    "\n",
    "**Description:**\n",
    "In the following cell, I...\n"
   ]
  },
  {
   "cell_type": "code",
   "execution_count": null,
   "id": "8096022b",
   "metadata": {
    "tags": []
   },
   "outputs": [],
   "source": [
    "%load_ext autoreload\n",
    "%autoreload 2\n",
    "%matplotlib inline\n",
    "%config InlineBackend.figure_format = 'retina'\n",
    "\n",
    "import pandas as pd\n",
    "import numpy as np\n",
    "from matplotlib import pyplot as plt"
   ]
  },
  {
   "cell_type": "code",
   "execution_count": null,
   "id": "82a1f552-368d-4481-9340-c1db63c4a9a0",
   "metadata": {
    "tags": []
   },
   "outputs": [],
   "source": [
    "data = pd.read_csv(\"../data/processed/pca_transformed_0.85.csv\", index_col=0)\n",
    "data.head()"
   ]
  },
  {
   "cell_type": "markdown",
   "id": "c39ecddc-960f-4289-ac2d-161959f4fdab",
   "metadata": {},
   "source": [
    "## 1987 年分水方案"
   ]
  },
  {
   "cell_type": "code",
   "execution_count": null,
   "id": "5b3b9bad-4845-4960-8f09-46be1ce69ad4",
   "metadata": {
    "tags": []
   },
   "outputs": [],
   "source": [
    "import pandas as pd\n",
    "from src.multi_synth import MultiSynth\n",
    "\n",
    "features = [\"PC1\", \"PC2\", \"PC3\", \"PC4\", \"PC5\"]\n",
    "Y_inputs = \"Total water use\"\n",
    "province_include = [\n",
    "    \"Qinghai\",\n",
    "    \"Gansu\",\n",
    "    \"Ningxia\",\n",
    "    \"Neimeng\",\n",
    "    \"Shanxi\",\n",
    "    \"Shaanxi\",\n",
    "    \"Henan\",\n",
    "    \"Shandong\",\n",
    "]\n",
    "province_exclude = [\"Jinji\", \"Beijing\", \"Sichuan\"]\n",
    "\n",
    "\n",
    "model_87 = MultiSynth(\n",
    "    dataset=data,\n",
    "    outcome_var=Y_inputs,\n",
    "    time_var=\"Year\",\n",
    "    id_var=\"Province\",\n",
    "    treated_units=province_include,\n",
    "    excluded_units=province_exclude,\n",
    "    features=features,\n",
    "    start=1979,\n",
    "    end=1998,\n",
    "    pen=\"auto\",\n",
    "    n_optim=100,\n",
    ")\n",
    "\n",
    "model_87.units\n",
    "model_87.run_models(treated_time=1987, differenced=True, space_placebo=True)"
   ]
  },
  {
   "cell_type": "markdown",
   "id": "963495fe-add8-409c-b7a4-3f4f6890a540",
   "metadata": {},
   "source": [
    "## 1998年分水方案"
   ]
  },
  {
   "cell_type": "code",
   "execution_count": null,
   "id": "e903b31a-30e5-4c38-bd56-0bf78ac86168",
   "metadata": {
    "tags": []
   },
   "outputs": [],
   "source": [
    "model_98 = MultiSynth(\n",
    "    dataset=data,\n",
    "    outcome_var=Y_inputs,\n",
    "    time_var=\"Year\",\n",
    "    id_var=\"Province\",\n",
    "    treated_units=province_include,\n",
    "    excluded_units=province_exclude,\n",
    "    features=features,\n",
    "    start=1987,\n",
    "    end=2008,\n",
    "    pen=\"auto\",\n",
    "    n_optim=100,\n",
    ")\n",
    "\n",
    "model_98.units\n",
    "model_98.run_models(treated_time=1998, differenced=True, space_placebo=True)"
   ]
  },
  {
   "cell_type": "code",
   "execution_count": null,
   "id": "d9b90850-35b4-419a-9846-a228b7a8db6a",
   "metadata": {
    "tags": []
   },
   "outputs": [],
   "source": [
    "from src.plots import plot_pre_post\n",
    "\n",
    "data = model_87.units[\"Henan\"].result\n",
    "plot_pre_post(data, 1987, Y_inputs)"
   ]
  },
  {
   "cell_type": "code",
   "execution_count": null,
   "id": "95651355-064c-4c4d-a95f-c07cd52c5cf7",
   "metadata": {
    "tags": []
   },
   "outputs": [],
   "source": [
    "model_87.export_to_pickle(\"../model/model_87.pkl\")\n",
    "model_98.export_to_pickle(\"../model/model_98.pkl\")"
   ]
  }
 ],
 "metadata": {
  "kernelspec": {
   "display_name": "Python 3 (ipykernel)",
   "language": "python",
   "name": "python3"
  },
  "language_info": {
   "codemirror_mode": {
    "name": "ipython",
    "version": 3
   },
   "file_extension": ".py",
   "mimetype": "text/x-python",
   "name": "python",
   "nbconvert_exporter": "python",
   "pygments_lexer": "ipython3",
   "version": "3.11.2"
  }
 },
 "nbformat": 4,
 "nbformat_minor": 5
}
