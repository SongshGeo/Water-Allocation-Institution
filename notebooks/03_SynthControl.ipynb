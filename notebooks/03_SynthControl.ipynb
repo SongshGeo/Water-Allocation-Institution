{
 "cells": [
  {
   "cell_type": "markdown",
   "id": "54220edb",
   "metadata": {},
   "source": [
    "## Title\n",
    "\n",
    "**Abstract:**\n",
    "One-sentence description\n",
    "\n",
    "**Description:**\n",
    "In the following cell, I...\n"
   ]
  },
  {
   "cell_type": "code",
   "execution_count": 1,
   "id": "8096022b",
   "metadata": {},
   "outputs": [
    {
     "name": "stderr",
     "output_type": "stream",
     "text": [
      "/Users/songshgeo/opt/anaconda3/envs/WAInstitution_YRB_2021/lib/python3.8/site-packages/outdated/utils.py:14: OutdatedPackageWarning: The package pingouin is out of date. Your version is 0.4.0, the latest is 0.5.1.\n",
      "Set the environment variable OUTDATED_IGNORE=1 to disable these warnings.\n",
      "  return warn(\n"
     ]
    }
   ],
   "source": [
    "import pandas as pd\n",
    "import numpy as np\n",
    "import seaborn as sns\n",
    "from matplotlib import pyplot as plt\n",
    "import sys\n",
    "import os\n",
    "\n",
    "sys.path.append(\"..\")\n",
    "\n",
    "%matplotlib inline\n",
    "%config InlineBackend.figure_format = 'retina'\n",
    "# plt.style.use('ggplot')\n",
    "plt.rcParams['axes.facecolor'] = 'white'\n",
    "\n",
    "from config import ROOT"
   ]
  },
  {
   "cell_type": "code",
   "execution_count": 2,
   "id": "77d7d74f",
   "metadata": {},
   "outputs": [],
   "source": [
    "os.chdir(ROOT)"
   ]
  },
  {
   "cell_type": "markdown",
   "id": "f51f8abc",
   "metadata": {},
   "source": [
    "## Compare 87-98 regulating\n",
    "\n",
    "**Abstract:**\n",
    "One-sentence description\n",
    "\n",
    "**Description:**\n",
    "In the following cell, I...\n"
   ]
  },
  {
   "cell_type": "code",
   "execution_count": 3,
   "id": "8b8c0de6",
   "metadata": {},
   "outputs": [
    {
     "data": {
      "text/plain": [
       "ExpResultsHandler(name='87aw', state='loaded', description='Excluding 3 provinces, X_inputs (irrigation area, population, gdp1~3, livestock), with water saving!', _updated_time='2022-05-18, 14:20:32')"
      ]
     },
     "execution_count": 3,
     "metadata": {},
     "output_type": "execute_result"
    },
    {
     "data": {
      "text/plain": [
       "ExpResultsHandler(name='98aw', state='loaded', description='Excluding 3 provinces, X_inputs (irrigation area, population, gdp1~3, livestock), with water saving!', _updated_time='2022-05-18, 16:18:26')"
      ]
     },
     "execution_count": 3,
     "metadata": {},
     "output_type": "execute_result"
    }
   ],
   "source": [
    "from core.handle import ExpResultsHandler\n",
    "\n",
    "YAML_87 = \"model/85%pca-87.yaml\"\n",
    "exp87 = ExpResultsHandler(yaml_file=YAML_87)\n",
    "exp87.load_from_pickle()\n",
    "\n",
    "YAML_98 = \"model/85%pca-98.yaml\"\n",
    "exp98 = ExpResultsHandler(yaml_file=YAML_98)\n",
    "exp98.load_from_pickle()\n",
    "\n",
    "statistic_87 = exp87.get_statistic_df()\n",
    "statistic_98 = exp98.get_statistic_df()"
   ]
  },
  {
   "cell_type": "code",
   "execution_count": 4,
   "id": "f413590d",
   "metadata": {},
   "outputs": [
    {
     "data": {
      "text/plain": [
       "Gansu       0.091292\n",
       "Henan       0.121088\n",
       "Neimeng     0.220083\n",
       "Ningxia     0.130051\n",
       "Qinghai     0.042683\n",
       "Shaanxi     0.042279\n",
       "Shandong    0.277591\n",
       "Shanxi      0.074933\n",
       "Name: YR_WU, dtype: float64"
      ]
     },
     "execution_count": 4,
     "metadata": {},
     "output_type": "execute_result"
    }
   ],
   "source": [
    "test = statistic_87['YR_WU'] + statistic_98['YR_WU']\n",
    "test/test.sum()\n",
    "base = (statistic_87['scheme87']/statistic_87['scheme87'].sum())"
   ]
  },
  {
   "cell_type": "code",
   "execution_count": 14,
   "id": "8b9c1bc6",
   "metadata": {},
   "outputs": [
    {
     "data": {
      "text/html": [
       "<div>\n",
       "<style scoped>\n",
       "    .dataframe tbody tr th:only-of-type {\n",
       "        vertical-align: middle;\n",
       "    }\n",
       "\n",
       "    .dataframe tbody tr th {\n",
       "        vertical-align: top;\n",
       "    }\n",
       "\n",
       "    .dataframe thead th {\n",
       "        text-align: right;\n",
       "    }\n",
       "</style>\n",
       "<table border=\"1\" class=\"dataframe\">\n",
       "  <thead>\n",
       "    <tr style=\"text-align: right;\">\n",
       "      <th></th>\n",
       "      <th>diff_sum</th>\n",
       "      <th>diff_ratio</th>\n",
       "      <th>Total_WU</th>\n",
       "      <th>YR_WU</th>\n",
       "      <th>ratio</th>\n",
       "      <th>scheme83</th>\n",
       "      <th>scheme87</th>\n",
       "      <th>plan</th>\n",
       "      <th>satisfied</th>\n",
       "      <th>unsatisfied</th>\n",
       "      <th>stress</th>\n",
       "      <th>punished</th>\n",
       "    </tr>\n",
       "  </thead>\n",
       "  <tbody>\n",
       "    <tr>\n",
       "      <th>Neimeng</th>\n",
       "      <td>38.932372</td>\n",
       "      <td>0.615627</td>\n",
       "      <td>134.543281</td>\n",
       "      <td>64.390909</td>\n",
       "      <td>0.490167</td>\n",
       "      <td>62.0</td>\n",
       "      <td>58.6</td>\n",
       "      <td>148.9</td>\n",
       "      <td>0.393553</td>\n",
       "      <td>0.606447</td>\n",
       "      <td>39.049692</td>\n",
       "      <td>3.4</td>\n",
       "    </tr>\n",
       "    <tr>\n",
       "      <th>Henan</th>\n",
       "      <td>28.325582</td>\n",
       "      <td>0.447905</td>\n",
       "      <td>223.370984</td>\n",
       "      <td>35.845455</td>\n",
       "      <td>0.162813</td>\n",
       "      <td>58.0</td>\n",
       "      <td>55.4</td>\n",
       "      <td>111.8</td>\n",
       "      <td>0.495528</td>\n",
       "      <td>0.504472</td>\n",
       "      <td>18.083038</td>\n",
       "      <td>2.6</td>\n",
       "    </tr>\n",
       "    <tr>\n",
       "      <th>Shandong</th>\n",
       "      <td>12.363557</td>\n",
       "      <td>0.195502</td>\n",
       "      <td>246.881959</td>\n",
       "      <td>87.818182</td>\n",
       "      <td>0.357389</td>\n",
       "      <td>75.0</td>\n",
       "      <td>70.0</td>\n",
       "      <td>84.0</td>\n",
       "      <td>0.833333</td>\n",
       "      <td>0.166667</td>\n",
       "      <td>14.636364</td>\n",
       "      <td>5.0</td>\n",
       "    </tr>\n",
       "    <tr>\n",
       "      <th>Gansu</th>\n",
       "      <td>-12.495562</td>\n",
       "      <td>-0.197589</td>\n",
       "      <td>109.615348</td>\n",
       "      <td>23.400000</td>\n",
       "      <td>0.213880</td>\n",
       "      <td>30.0</td>\n",
       "      <td>30.4</td>\n",
       "      <td>73.5</td>\n",
       "      <td>0.413605</td>\n",
       "      <td>0.586395</td>\n",
       "      <td>13.721633</td>\n",
       "      <td>-0.4</td>\n",
       "    </tr>\n",
       "    <tr>\n",
       "      <th>Ningxia</th>\n",
       "      <td>1.686292</td>\n",
       "      <td>0.026665</td>\n",
       "      <td>82.124035</td>\n",
       "      <td>34.890909</td>\n",
       "      <td>0.425983</td>\n",
       "      <td>40.0</td>\n",
       "      <td>40.0</td>\n",
       "      <td>60.5</td>\n",
       "      <td>0.661157</td>\n",
       "      <td>0.338843</td>\n",
       "      <td>11.822539</td>\n",
       "      <td>0.0</td>\n",
       "    </tr>\n",
       "    <tr>\n",
       "      <th>Shaanxi</th>\n",
       "      <td>2.188959</td>\n",
       "      <td>0.034613</td>\n",
       "      <td>64.971583</td>\n",
       "      <td>12.581818</td>\n",
       "      <td>0.195459</td>\n",
       "      <td>43.0</td>\n",
       "      <td>38.0</td>\n",
       "      <td>115.0</td>\n",
       "      <td>0.330435</td>\n",
       "      <td>0.669565</td>\n",
       "      <td>8.424348</td>\n",
       "      <td>5.0</td>\n",
       "    </tr>\n",
       "    <tr>\n",
       "      <th>Qinghai</th>\n",
       "      <td>-0.976968</td>\n",
       "      <td>-0.015449</td>\n",
       "      <td>24.302303</td>\n",
       "      <td>12.136364</td>\n",
       "      <td>0.500318</td>\n",
       "      <td>14.0</td>\n",
       "      <td>14.1</td>\n",
       "      <td>35.7</td>\n",
       "      <td>0.394958</td>\n",
       "      <td>0.605042</td>\n",
       "      <td>7.343010</td>\n",
       "      <td>-0.1</td>\n",
       "    </tr>\n",
       "    <tr>\n",
       "      <th>Shanxi</th>\n",
       "      <td>-6.784044</td>\n",
       "      <td>-0.107274</td>\n",
       "      <td>58.150938</td>\n",
       "      <td>19.718182</td>\n",
       "      <td>0.339904</td>\n",
       "      <td>52.0</td>\n",
       "      <td>43.1</td>\n",
       "      <td>60.8</td>\n",
       "      <td>0.708882</td>\n",
       "      <td>0.291118</td>\n",
       "      <td>5.740326</td>\n",
       "      <td>8.9</td>\n",
       "    </tr>\n",
       "  </tbody>\n",
       "</table>\n",
       "</div>"
      ],
      "text/plain": [
       "           diff_sum  diff_ratio    Total_WU      YR_WU     ratio  scheme83  \\\n",
       "Neimeng   38.932372    0.615627  134.543281  64.390909  0.490167      62.0   \n",
       "Henan     28.325582    0.447905  223.370984  35.845455  0.162813      58.0   \n",
       "Shandong  12.363557    0.195502  246.881959  87.818182  0.357389      75.0   \n",
       "Gansu    -12.495562   -0.197589  109.615348  23.400000  0.213880      30.0   \n",
       "Ningxia    1.686292    0.026665   82.124035  34.890909  0.425983      40.0   \n",
       "Shaanxi    2.188959    0.034613   64.971583  12.581818  0.195459      43.0   \n",
       "Qinghai   -0.976968   -0.015449   24.302303  12.136364  0.500318      14.0   \n",
       "Shanxi    -6.784044   -0.107274   58.150938  19.718182  0.339904      52.0   \n",
       "\n",
       "          scheme87   plan  satisfied  unsatisfied     stress  punished  \n",
       "Neimeng       58.6  148.9   0.393553     0.606447  39.049692       3.4  \n",
       "Henan         55.4  111.8   0.495528     0.504472  18.083038       2.6  \n",
       "Shandong      70.0   84.0   0.833333     0.166667  14.636364       5.0  \n",
       "Gansu         30.4   73.5   0.413605     0.586395  13.721633      -0.4  \n",
       "Ningxia       40.0   60.5   0.661157     0.338843  11.822539       0.0  \n",
       "Shaanxi       38.0  115.0   0.330435     0.669565   8.424348       5.0  \n",
       "Qinghai       14.1   35.7   0.394958     0.605042   7.343010      -0.1  \n",
       "Shanxi        43.1   60.8   0.708882     0.291118   5.740326       8.9  "
      ]
     },
     "execution_count": 14,
     "metadata": {},
     "output_type": "execute_result"
    }
   ],
   "source": [
    "exp87.dfs['statistic']"
   ]
  },
  {
   "cell_type": "code",
   "execution_count": 17,
   "id": "6b5a4f36",
   "metadata": {},
   "outputs": [
    {
     "data": {
      "text/plain": [
       "([0.32873181583535027, -0.29058214296083734],\n",
       " [0.47158619559868903, 0.5272528733726144])"
      ]
     },
     "execution_count": 17,
     "metadata": {},
     "output_type": "execute_result"
    },
    {
     "data": {
      "image/png": "[encoded data removed]",
      "text/plain": [
       "<Figure size 432x288 with 1 Axes>"
      ]
     },
     "metadata": {
      "image/png": {
       "height": 252,
       "width": 386
      },
      "needs_background": "light"
     },
     "output_type": "display_data"
    }
   ],
   "source": [
    "exp98.correlation_analysis(xs=['YR_WU', 'satisfied'], y='diff_ratio')"
   ]
  },
  {
   "cell_type": "code",
   "execution_count": 20,
   "id": "a6462331",
   "metadata": {},
   "outputs": [],
   "source": [
    "compare_df = pd.DataFrame()\n",
    "compare_df['87_ratio'] = statistic_87['diff_ratio']\n",
    "compare_df['98_ratio'] = statistic_98['diff_ratio']\n",
    "compare_df['wu_ratio_87'] = statistic_87['YR_WU']/statistic_87['YR_WU'].sum()\n",
    "compare_df['wu_ratio_98'] = statistic_98['YR_WU']/statistic_98['YR_WU'].sum()\n",
    "compare_df['YR_WU'] = (compare_df['wu_ratio_87'] + compare_df['wu_ratio_98'])/2\n",
    "compare_df = compare_df.sort_values('YR_WU', ascending=False)"
   ]
  },
  {
   "cell_type": "code",
   "execution_count": 21,
   "id": "8d566b8e",
   "metadata": {},
   "outputs": [
    {
     "name": "stderr",
     "output_type": "stream",
     "text": [
      "/var/folders/m8/qpvn85g95rbgw5j_qb5g2pzh0000gn/T/ipykernel_29183/1280033746.py:35: UserWarning: FixedFormatter should only be used together with FixedLocator\n",
      "  ax1.set_xticklabels(xticklabels)\n",
      "/var/folders/m8/qpvn85g95rbgw5j_qb5g2pzh0000gn/T/ipykernel_29183/1280033746.py:46: UserWarning: FixedFormatter should only be used together with FixedLocator\n",
      "  ax1.set_xticklabels(claen_labels)\n"
     ]
    },
    {
     "data": {
      "image/png": "[encoded data removed]",
      "text/plain": [
       "<Figure size 504x288 with 2 Axes>"
      ]
     },
     "metadata": {
      "image/png": {
       "height": 273,
       "width": 492
      },
      "needs_background": "light"
     },
     "output_type": "display_data"
    }
   ],
   "source": [
    "from matplotlib import ticker\n",
    "plt.rcParams['xtick.direction'] = 'in'\n",
    "plt.rcParams['ytick.direction'] = 'in'\n",
    "fig, ax1 = plt.subplots(figsize=(7, 4))\n",
    "\n",
    "width = 0.36\n",
    "x = np.arange(8)\n",
    "index = compare_df.index\n",
    "ax2 = ax1.twinx()\n",
    "\n",
    "ax2.bar(x-width/2, width=width, height=compare_df['wu_ratio_87'], color='lightgray', alpha=0.4, edgecolor='white', hatch=\"xxx\", label='WU ratio', zorder=0)\n",
    "ax2.bar(x+width/2, width=width, height=compare_df['wu_ratio_98'], color='lightgray', alpha=0.4, edgecolor='white', hatch=\"xxx\", zorder=0)\n",
    "ax2.scatter(range(8), base[compare_df.index], marker=\"^\", color='red', edgecolor='white', s=80, label=\"Quota\")\n",
    "\n",
    "ax1.bar(x-width/2, width=width, height=compare_df['87_ratio'], color='#C83C1C', alpha=0.8, zorder=1, label='87-WAS', edgecolor='white')\n",
    "ax1.bar(x+width/2, width=width, height=compare_df['98_ratio'], color='#006C43', alpha=0.8, zorder=1, label='98-UBR', edgecolor='white')\n",
    "\n",
    "\n",
    "# 坐标轴距离\n",
    "ax1.set_yticks(np.arange(-0.5, 0.51, 0.25))\n",
    "ax1.set_ylim(-0.5, 0.5)\n",
    "ax1.set_xlim(-0.8, 7.8)\n",
    "ax2.set_yticks(np.arange(-0.4, 0.41, 0.1))\n",
    "ax2.set_ylim(-0.4, 0.4)\n",
    "ax2.set_yticklabels([\"\", \"\", \"\", \"\", \"0%\", \"10%\", \"20%\", \"30%\", \"40%\"])\n",
    "\n",
    "for ax in [ax1, ax2]:\n",
    "    ax.spines['top'].set_visible(False)\n",
    "    ax.spines['left'].set_visible(True)\n",
    "    ax.spines['right'].set_visible(True)\n",
    "    ax.spines['bottom'].set_visible(False)    \n",
    "\n",
    "xticklabels = index.to_list()\n",
    "xticklabels.insert(0, \"\")\n",
    "ax1.set_xticklabels(xticklabels)\n",
    "claen_labels = []\n",
    "for label in ax1.get_xticklabels():\n",
    "    text = label.get_text()\n",
    "    if text == \"Neimeng\":\n",
    "        text = 'Inner\\nMongolia'\n",
    "    elif text == 'Shanxi':\n",
    "        text = 'Shaanxi'\n",
    "    elif text == 'Shaanxi':\n",
    "        text = 'Shanxi'\n",
    "    claen_labels.append(text)\n",
    "ax1.set_xticklabels(claen_labels)\n",
    "ax1.set_ylabel(\"Extra WU over the estimation\")\n",
    "ax2.set_ylabel(\"WU ratio\")\n",
    "#### 辅助线 ========\n",
    "ax1.axhline(0, ls='--', color='gray', lw=1, zorder=0)\n",
    "ax1.annotate(\"\",\n",
    "        xy=(0-width, -0.4), xycoords='data',\n",
    "        xytext=(3+width, -0.4), textcoords='data',\n",
    "        arrowprops=dict(arrowstyle=\"<->\",\n",
    "                       connectionstyle='arc3',\n",
    "                       color='black', lw=1.5))\n",
    "ax1.text(1.5, -0.42, \"Major water users\", color='black', horizontalalignment='center', verticalalignment='top')\n",
    "ax1.yaxis.set_major_formatter(ticker.PercentFormatter(xmax=1, decimals=0))\n",
    "\n",
    "# -=====  图例\n",
    "\n",
    "legend_handles = []\n",
    "legend_labels = []\n",
    "for handle, label in zip(*ax1.get_legend_handles_labels()):\n",
    "    legend_handles.append(handle)\n",
    "    legend_labels.append(label)\n",
    "    \n",
    "for handle, label in zip(*ax2.get_legend_handles_labels()):\n",
    "    legend_handles.append(handle)\n",
    "    legend_labels.append(label)\n",
    "\n",
    "fig.legend(loc=(0.7, 0.73), frameon=False, handles=legend_handles, labels=legend_labels, handletextpad=1.5)\n",
    "plt.savefig(\"figs/outputs/fig3.pdf\", format='pdf')\n",
    "plt.show();"
   ]
  },
  {
   "cell_type": "code",
   "execution_count": 24,
   "id": "ba0e43b0",
   "metadata": {},
   "outputs": [
    {
     "data": {
      "text/plain": [
       "0.32142457519964324"
      ]
     },
     "execution_count": 24,
     "metadata": {},
     "output_type": "execute_result"
    },
    {
     "data": {
      "text/plain": [
       "Shandong   -0.167730\n",
       "Neimeng     0.157645\n",
       "Ningxia    -0.146880\n",
       "Henan      -0.413373\n",
       "Gansu      -0.158632\n",
       "Shanxi     -0.023740\n",
       "Qinghai    -0.211361\n",
       "Shaanxi    -0.035929\n",
       "Name: 98_ratio, dtype: float64"
      ]
     },
     "execution_count": 24,
     "metadata": {},
     "output_type": "execute_result"
    }
   ],
   "source": [
    "compare_df['87_ratio'].iloc[:4].mean()\n",
    "compare_df['98_ratio']"
   ]
  },
  {
   "cell_type": "code",
   "execution_count": 26,
   "id": "9d1c5356",
   "metadata": {},
   "outputs": [
    {
     "data": {
      "text/plain": [
       "-0.16537786658862133"
      ]
     },
     "execution_count": 26,
     "metadata": {},
     "output_type": "execute_result"
    }
   ],
   "source": [
    "compare_df['98_ratio'][compare_df['98_ratio']<0].mean()"
   ]
  },
  {
   "cell_type": "code",
   "execution_count": 28,
   "id": "bbd3bc2e",
   "metadata": {},
   "outputs": [
    {
     "data": {
      "text/plain": [
       "87_ratio       0.615627\n",
       "98_ratio       0.157645\n",
       "wu_ratio_87    0.221441\n",
       "wu_ratio_98    0.218633\n",
       "YR_WU          0.220037\n",
       "Name: Neimeng, dtype: float64"
      ]
     },
     "execution_count": 28,
     "metadata": {},
     "output_type": "execute_result"
    }
   ],
   "source": [
    "compare_df.loc['Neimeng', :]"
   ]
  },
  {
   "cell_type": "code",
   "execution_count": 32,
   "id": "bb05afe9",
   "metadata": {},
   "outputs": [
    {
     "data": {
      "text/plain": [
       "-0.7439276565421056"
      ]
     },
     "execution_count": 32,
     "metadata": {},
     "output_type": "execute_result"
    }
   ],
   "source": [
    "(compare_df.loc['Neimeng', '98_ratio'] - compare_df.loc['Neimeng', '87_ratio'])/compare_df.loc['Neimeng', '87_ratio']"
   ]
  }
 ],
 "metadata": {
  "kernelspec": {
   "display_name": "WAInstitution",
   "language": "python",
   "name": "wainstitution"
  },
  "language_info": {
   "codemirror_mode": {
    "name": "ipython",
    "version": 3
   },
   "file_extension": ".py",
   "mimetype": "text/x-python",
   "name": "python",
   "nbconvert_exporter": "python",
   "pygments_lexer": "ipython3",
   "version": "3.8.12"
  }
 },
 "nbformat": 4,
 "nbformat_minor": 5
}
