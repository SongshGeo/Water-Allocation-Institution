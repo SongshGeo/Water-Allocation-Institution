{
 "cells": [
  {
   "cell_type": "markdown",
   "id": "54220edb",
   "metadata": {},
   "source": [
    "## Title\n",
    "\n",
    "**Abstract:**\n",
    "One-sentence description\n",
    "\n",
    "**Description:**\n",
    "In the following cell, I...\n"
   ]
  },
  {
   "cell_type": "code",
   "execution_count": 1,
   "id": "8096022b",
   "metadata": {},
   "outputs": [],
   "source": [
    "import pandas as pd\n",
    "import numpy as np\n",
    "import seaborn as sns\n",
    "from matplotlib import pyplot as plt\n",
    "import sys\n",
    "import os\n",
    "\n",
    "sys.path.append(\"..\")\n",
    "\n",
    "%matplotlib inline\n",
    "%config InlineBackend.figure_format = 'retina'\n",
    "# plt.style.use('ggplot')\n",
    "plt.rcParams['axes.facecolor'] = 'white'\n",
    "\n",
    "from config import ROOT"
   ]
  },
  {
   "cell_type": "code",
   "execution_count": 2,
   "id": "77d7d74f",
   "metadata": {},
   "outputs": [],
   "source": [
    "os.chdir(ROOT)"
   ]
  },
  {
   "cell_type": "markdown",
   "id": "f51f8abc",
   "metadata": {},
   "source": [
    "## Compare 87-98 regulating\n",
    "\n",
    "**Abstract:**\n",
    "One-sentence description\n",
    "\n",
    "**Description:**\n",
    "In the following cell, I...\n"
   ]
  },
  {
   "cell_type": "code",
   "execution_count": 3,
   "id": "8b8c0de6",
   "metadata": {},
   "outputs": [
    {
     "name": "stderr",
     "output_type": "stream",
     "text": [
      "experiment folder made in /Users/songshgeo/Documents/Pycharm/WAInstitution_YRB_2021.\n",
      "results folder made in /Users/songshgeo/Documents/Pycharm/WAInstitution_YRB_2021/87_all_wci.\n"
     ]
    },
    {
     "ename": "FileNotFoundError",
     "evalue": "[Errno 2] No such file or directory: '/Users/songshgeo/Documents/Pycharm/WAInstitution_YRB_2021/87_all_wci/results/87aw_experiment.pkl'",
     "output_type": "error",
     "traceback": [
      "\u001b[0;31m---------------------------------------------------------------------------\u001b[0m",
      "\u001b[0;31mFileNotFoundError\u001b[0m                         Traceback (most recent call last)",
      "Input \u001b[0;32mIn [3]\u001b[0m, in \u001b[0;36m<cell line: 5>\u001b[0;34m()\u001b[0m\n\u001b[1;32m      3\u001b[0m YAML_87 \u001b[38;5;241m=\u001b[39m \u001b[38;5;124m\"\u001b[39m\u001b[38;5;124mmodel/85\u001b[39m\u001b[38;5;124m%\u001b[39m\u001b[38;5;124mpca-87.yaml\u001b[39m\u001b[38;5;124m\"\u001b[39m\n\u001b[1;32m      4\u001b[0m exp87 \u001b[38;5;241m=\u001b[39m ExpResultsHandler(yaml_file\u001b[38;5;241m=\u001b[39mYAML_87)\n\u001b[0;32m----> 5\u001b[0m \u001b[43mexp87\u001b[49m\u001b[38;5;241;43m.\u001b[39;49m\u001b[43mload_from_pickle\u001b[49m\u001b[43m(\u001b[49m\u001b[43m)\u001b[49m\n\u001b[1;32m      7\u001b[0m YAML_98 \u001b[38;5;241m=\u001b[39m \u001b[38;5;124m\"\u001b[39m\u001b[38;5;124mmodel/85\u001b[39m\u001b[38;5;124m%\u001b[39m\u001b[38;5;124mpca-98.yaml\u001b[39m\u001b[38;5;124m\"\u001b[39m\n\u001b[1;32m      8\u001b[0m exp98 \u001b[38;5;241m=\u001b[39m ExpResultsHandler(yaml_file\u001b[38;5;241m=\u001b[39mYAML_98)\n",
      "File \u001b[0;32m~/Documents/Pycharm/WAInstitution_YRB_2021/notebooks/../core/handle.py:54\u001b[0m, in \u001b[0;36mExpResultsHandler.load_from_pickle\u001b[0;34m(self)\u001b[0m\n\u001b[1;32m     52\u001b[0m \u001b[38;5;124;03m\"\"\"Load exp results from pickle.\"\"\"\u001b[39;00m\n\u001b[1;32m     53\u001b[0m checks \u001b[38;5;241m=\u001b[39m [inspect\u001b[38;5;241m.\u001b[39mismethod, inspect\u001b[38;5;241m.\u001b[39misbuiltin]\n\u001b[0;32m---> 54\u001b[0m experiment \u001b[38;5;241m=\u001b[39m \u001b[38;5;28;43msuper\u001b[39;49m\u001b[43m(\u001b[49m\u001b[43m)\u001b[49m\u001b[38;5;241;43m.\u001b[39;49m\u001b[43mload_from_pickle\u001b[49m\u001b[43m(\u001b[49m\u001b[43m)\u001b[49m\n\u001b[1;32m     55\u001b[0m \u001b[38;5;28;01mfor\u001b[39;00m attr \u001b[38;5;129;01min\u001b[39;00m \u001b[38;5;28mdir\u001b[39m(experiment):\n\u001b[1;32m     56\u001b[0m     obj \u001b[38;5;241m=\u001b[39m \u001b[38;5;28mgetattr\u001b[39m(experiment, attr)\n",
      "File \u001b[0;32m~/Documents/Pycharm/WAInstitution_YRB_2021/notebooks/../core/experiment.py:226\u001b[0m, in \u001b[0;36mExperiment.load_from_pickle\u001b[0;34m(self)\u001b[0m\n\u001b[1;32m    224\u001b[0m     file\u001b[38;5;241m.\u001b[39mclose()\n\u001b[1;32m    225\u001b[0m path \u001b[38;5;241m=\u001b[39m os\u001b[38;5;241m.\u001b[39mpath\u001b[38;5;241m.\u001b[39mjoin(root, result_path, \u001b[38;5;124mf\u001b[39m\u001b[38;5;124m\"\u001b[39m\u001b[38;5;132;01m{\u001b[39;00m\u001b[38;5;28mself\u001b[39m\u001b[38;5;241m.\u001b[39mname\u001b[38;5;132;01m}\u001b[39;00m\u001b[38;5;124m_experiment.pkl\u001b[39m\u001b[38;5;124m\"\u001b[39m)\n\u001b[0;32m--> 226\u001b[0m \u001b[38;5;28;01mwith\u001b[39;00m \u001b[38;5;28;43mopen\u001b[39;49m\u001b[43m(\u001b[49m\u001b[43mpath\u001b[49m\u001b[43m,\u001b[49m\u001b[43m \u001b[49m\u001b[38;5;124;43m\"\u001b[39;49m\u001b[38;5;124;43mrb\u001b[39;49m\u001b[38;5;124;43m\"\u001b[39;49m\u001b[43m)\u001b[49m \u001b[38;5;28;01mas\u001b[39;00m pkl:\n\u001b[1;32m    227\u001b[0m     obj \u001b[38;5;241m=\u001b[39m pickle\u001b[38;5;241m.\u001b[39mload(pkl)\n\u001b[1;32m    228\u001b[0m \u001b[38;5;28;01mreturn\u001b[39;00m obj\n",
      "\u001b[0;31mFileNotFoundError\u001b[0m: [Errno 2] No such file or directory: '/Users/songshgeo/Documents/Pycharm/WAInstitution_YRB_2021/87_all_wci/results/87aw_experiment.pkl'"
     ]
    }
   ],
   "source": [
    "from core.handle import ExpResultsHandler\n",
    "\n",
    "YAML_87 = \"model/85%pca-87.yaml\"\n",
    "exp87 = ExpResultsHandler(yaml_file=YAML_87)\n",
    "exp87.load_from_pickle()\n",
    "\n",
    "YAML_98 = \"model/85%pca-98.yaml\"\n",
    "exp98 = ExpResultsHandler(yaml_file=YAML_98)\n",
    "exp98.load_from_pickle()\n",
    "\n",
    "statistic_87 = exp87.get_statistic_df()\n",
    "statistic_98 = exp98.get_statistic_df()"
   ]
  },
  {
   "cell_type": "code",
   "execution_count": null,
   "id": "f413590d",
   "metadata": {},
   "outputs": [],
   "source": [
    "test = statistic_87['YR_WU'] + statistic_98['YR_WU']\n",
    "test/test.sum()\n",
    "base = (statistic_87['scheme87']/statistic_87['scheme87'].sum())"
   ]
  },
  {
   "cell_type": "code",
   "execution_count": null,
   "id": "8b9c1bc6",
   "metadata": {},
   "outputs": [],
   "source": [
    "exp87.dfs['statistic']"
   ]
  },
  {
   "cell_type": "code",
   "execution_count": null,
   "id": "6b5a4f36",
   "metadata": {},
   "outputs": [],
   "source": [
    "exp98.correlation_analysis(xs=['YR_WU', 'satisfied'], y='diff_ratio')"
   ]
  },
  {
   "cell_type": "code",
   "execution_count": null,
   "id": "a6462331",
   "metadata": {},
   "outputs": [],
   "source": [
    "compare_df = pd.DataFrame()\n",
    "compare_df['87_ratio'] = statistic_87['diff_ratio']\n",
    "compare_df['98_ratio'] = statistic_98['diff_ratio']\n",
    "compare_df['wu_ratio_87'] = statistic_87['YR_WU']/statistic_87['YR_WU'].sum()\n",
    "compare_df['wu_ratio_98'] = statistic_98['YR_WU']/statistic_98['YR_WU'].sum()\n",
    "compare_df['YR_WU'] = (compare_df['wu_ratio_87'] + compare_df['wu_ratio_98'])/2\n",
    "compare_df = compare_df.sort_values('YR_WU', ascending=False)"
   ]
  },
  {
   "cell_type": "code",
   "execution_count": null,
   "id": "8d566b8e",
   "metadata": {},
   "outputs": [],
   "source": [
    "from matplotlib import ticker\n",
    "plt.rcParams['xtick.direction'] = 'in'\n",
    "plt.rcParams['ytick.direction'] = 'in'\n",
    "fig, ax1 = plt.subplots(figsize=(7, 4))\n",
    "\n",
    "width = 0.36\n",
    "x = np.arange(8)\n",
    "index = compare_df.index\n",
    "ax2 = ax1.twinx()\n",
    "\n",
    "ax2.bar(x-width/2, width=width, height=compare_df['wu_ratio_87'], color='lightgray', alpha=0.4, edgecolor='white', hatch=\"xxx\", label='WU ratio', zorder=0)\n",
    "ax2.bar(x+width/2, width=width, height=compare_df['wu_ratio_98'], color='lightgray', alpha=0.4, edgecolor='white', hatch=\"xxx\", zorder=0)\n",
    "ax2.scatter(range(8), base[compare_df.index], marker=\"^\", color='red', edgecolor='white', s=80, label=\"Quota\")\n",
    "\n",
    "ax1.bar(x-width/2, width=width, height=compare_df['87_ratio'], color='#C83C1C', alpha=0.8, zorder=1, label='87-WAS', edgecolor='white')\n",
    "ax1.bar(x+width/2, width=width, height=compare_df['98_ratio'], color='#006C43', alpha=0.8, zorder=1, label='98-UBR', edgecolor='white')\n",
    "\n",
    "\n",
    "# 坐标轴距离\n",
    "ax1.set_yticks(np.arange(-0.5, 0.51, 0.25))\n",
    "ax1.set_ylim(-0.5, 0.5)\n",
    "ax1.set_xlim(-0.8, 7.8)\n",
    "ax2.set_yticks(np.arange(-0.4, 0.41, 0.1))\n",
    "ax2.set_ylim(-0.4, 0.4)\n",
    "ax2.set_yticklabels([\"\", \"\", \"\", \"\", \"0%\", \"10%\", \"20%\", \"30%\", \"40%\"])\n",
    "\n",
    "for ax in [ax1, ax2]:\n",
    "    ax.spines['top'].set_visible(False)\n",
    "    ax.spines['left'].set_visible(True)\n",
    "    ax.spines['right'].set_visible(True)\n",
    "    ax.spines['bottom'].set_visible(False)    \n",
    "\n",
    "xticklabels = index.to_list()\n",
    "xticklabels.insert(0, \"\")\n",
    "ax1.set_xticklabels(xticklabels)\n",
    "claen_labels = []\n",
    "for label in ax1.get_xticklabels():\n",
    "    text = label.get_text()\n",
    "    if text == \"Neimeng\":\n",
    "        text = 'Inner\\nMongolia'\n",
    "    elif text == 'Shanxi':\n",
    "        text = 'Shaanxi'\n",
    "    elif text == 'Shaanxi':\n",
    "        text = 'Shanxi'\n",
    "    claen_labels.append(text)\n",
    "ax1.set_xticklabels(claen_labels)\n",
    "ax1.set_ylabel(\"Extra WU over the estimation\")\n",
    "ax2.set_ylabel(\"WU ratio\")\n",
    "#### 辅助线 ========\n",
    "ax1.axhline(0, ls='--', color='gray', lw=1, zorder=0)\n",
    "ax1.annotate(\"\",\n",
    "        xy=(0-width, -0.4), xycoords='data',\n",
    "        xytext=(3+width, -0.4), textcoords='data',\n",
    "        arrowprops=dict(arrowstyle=\"<->\",\n",
    "                       connectionstyle='arc3',\n",
    "                       color='black', lw=1.5))\n",
    "ax1.text(1.5, -0.42, \"Major water users\", color='black', horizontalalignment='center', verticalalignment='top')\n",
    "ax1.yaxis.set_major_formatter(ticker.PercentFormatter(xmax=1, decimals=0))\n",
    "\n",
    "# -=====  图例\n",
    "\n",
    "legend_handles = []\n",
    "legend_labels = []\n",
    "for handle, label in zip(*ax1.get_legend_handles_labels()):\n",
    "    legend_handles.append(handle)\n",
    "    legend_labels.append(label)\n",
    "    \n",
    "for handle, label in zip(*ax2.get_legend_handles_labels()):\n",
    "    legend_handles.append(handle)\n",
    "    legend_labels.append(label)\n",
    "\n",
    "fig.legend(loc=(0.7, 0.73), frameon=False, handles=legend_handles, labels=legend_labels, handletextpad=1.5)\n",
    "plt.savefig(\"figs/outputs/fig3.pdf\", format='pdf')\n",
    "plt.savefig(\"figs/outputs/fig3.jpg\", format='jpg', dpi=300)\n",
    "plt.show();"
   ]
  },
  {
   "cell_type": "code",
   "execution_count": null,
   "id": "ba0e43b0",
   "metadata": {},
   "outputs": [],
   "source": [
    "compare_df['87_ratio'].iloc[:4].mean()\n",
    "compare_df['98_ratio']"
   ]
  },
  {
   "cell_type": "code",
   "execution_count": null,
   "id": "9d1c5356",
   "metadata": {},
   "outputs": [],
   "source": [
    "compare_df['98_ratio'][compare_df['98_ratio']<0].mean()"
   ]
  },
  {
   "cell_type": "code",
   "execution_count": null,
   "id": "bbd3bc2e",
   "metadata": {},
   "outputs": [],
   "source": [
    "compare_df.loc['Neimeng', :]"
   ]
  },
  {
   "cell_type": "code",
   "execution_count": null,
   "id": "bb05afe9",
   "metadata": {},
   "outputs": [],
   "source": [
    "(compare_df.loc['Neimeng', '98_ratio'] - compare_df.loc['Neimeng', '87_ratio'])/compare_df.loc['Neimeng', '87_ratio']"
   ]
  }
 ],
 "metadata": {
  "kernelspec": {
   "display_name": "WAInstitution",
   "language": "python",
   "name": "wainstitution"
  },
  "language_info": {
   "codemirror_mode": {
    "name": "ipython",
    "version": 3
   },
   "file_extension": ".py",
   "mimetype": "text/x-python",
   "name": "python",
   "nbconvert_exporter": "python",
   "pygments_lexer": "ipython3",
   "version": "3.8.12"
  }
 },
 "nbformat": 4,
 "nbformat_minor": 5
}
