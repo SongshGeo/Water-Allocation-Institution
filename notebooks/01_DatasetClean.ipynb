{
 "cells": [
  {
   "cell_type": "markdown",
   "id": "72a0df4f",
   "metadata": {},
   "source": [
    "# Main Dataset clean\n",
    "\n",
    "**Abstract:**\n",
    "One-sentence description\n",
    "\n",
    "**Description:**\n",
    "In the following cell, I...\n"
   ]
  },
  {
   "cell_type": "code",
   "execution_count": null,
   "id": "6c25df55",
   "metadata": {},
   "outputs": [],
   "source": [
    "import pandas as pd\n",
    "import numpy as np\n",
    "import seaborn as sns\n",
    "from matplotlib import pyplot as plt\n",
    "\n",
    "import sys\n",
    "import os\n",
    "\n",
    "sys.path.append(\"..\")\n",
    "%matplotlib inline\n",
    "%config InlineBackend.figure_format = 'retina'\n",
    "# plt.style.use('ggplot')\n",
    "plt.rcParams[\"axes.facecolor\"] = \"white\""
   ]
  },
  {
   "cell_type": "code",
   "execution_count": null,
   "id": "35ed759f",
   "metadata": {},
   "outputs": [],
   "source": [
    "from config import ROOT, SCHEME_87, PROVINCES_CHN2ENG"
   ]
  },
  {
   "cell_type": "markdown",
   "id": "797d20b2",
   "metadata": {},
   "source": [
    "## Title\n",
    "\n",
    "**Abstract:**\n",
    "One-sentence description\n",
    "\n",
    "**Description:**\n",
    "In the following cell, I...\n"
   ]
  },
  {
   "cell_type": "code",
   "execution_count": null,
   "id": "2bd3345a",
   "metadata": {},
   "outputs": [],
   "source": [
    "# Introduction of the original datasets.\n",
    "readme = pd.read_excel(\n",
    "    os.path.join(ROOT, \"data/source/Zhou et al_2020_PNAS_dataset.xlsx\"),\n",
    "    sheet_name=\"Readme\",\n",
    ")\n",
    "\n",
    "# driver factors to water use changes\n",
    "driver_data = pd.read_excel(\n",
    "    os.path.join(ROOT, \"data/source/Zhou et al_2020_PNAS_dataset.xlsx\"), sheet_name=\"D3\"\n",
    ")\n",
    "\n",
    "# 展示上述数据的数据介绍\n",
    "readme_drivers = readme.loc[39:47, [\"Variables\", \"Units\", \"Definition\"]]\n",
    "readme_drivers"
   ]
  },
  {
   "cell_type": "markdown",
   "id": "950d0d19",
   "metadata": {},
   "source": [
    "**Output digestion:**\n",
    "\n",
    "---\n",
    "**Analysis:**\n",
    "可以看到，用水驱动主要有以下几个变量：\n",
    "- Year，年份，这些数据的年份都是从1975开始，到2013年\n",
    "- PIRR，潜在的灌溉用水需求，根据文章里说，是由全球水文模型跑出来的，因此有不小的不确定性。\n",
    "- AIRR，可供灌溉的淡水量，也是全球水文模型跑出来的\n",
    "- WCI，灌溉装备了节水面积的灌区占灌区总面积的比例，比如滴灌、管灌、渠道硬化\n",
    "- Ratio of industrial water recycling，工业用水是可以循环使用的，这是再利用的比例\n",
    "- Ratio of industrial water evaporated，这才算是工业真正的耗水，也就是工业用水中的多少是被消耗掉的\n",
    "\n",
    "对于该数据，有以下几个基本认识：\n",
    "\n",
    "- 最小的灌溉需求都有315mm， 但灌溉可供水量是有差异的，因此有的地方可能水赤字，这个赤字有可能从地下水补给，对分析带来较大的影响。这些模型跑出来的数据对定量分析帮助有限。\n",
    "- WUI直接由总用水量计算出，因此根本不能使用。\n",
    "- 可以使用农业和工业的节水设施变量参与预测：节水灌溉比例、工业再利用率、工业蒸发率（耗水）"
   ]
  },
  {
   "cell_type": "markdown",
   "id": "f5fc3456",
   "metadata": {},
   "source": [
    "## Water Uses Values\n",
    "\n",
    "**Abstract:**\n",
    "One-sentence description\n",
    "\n",
    "**Description:**\n",
    "In the following cell, I...\n"
   ]
  },
  {
   "cell_type": "code",
   "execution_count": null,
   "id": "6cf57715",
   "metadata": {},
   "outputs": [],
   "source": [
    "# water use values data and some economic factors\n",
    "values_data = pd.read_excel(\n",
    "    os.path.join(ROOT, \"data/source/Zhou et al_2020_PNAS_dataset.xlsx\"), sheet_name=\"D1\"\n",
    ")\n",
    "values_data = values_data.dropna(axis=1, how=\"all\")\n",
    "\n",
    "# 清洗数据的头部，让两行头部变一行\n",
    "change_name_dic = {}\n",
    "last_item = \"None\"\n",
    "for col in values_data:\n",
    "    second_row = values_data.loc[0, col]\n",
    "    if \"Unnamed\" in col:\n",
    "        change_name_dic[col] = last_item + \": \" + second_row\n",
    "    else:\n",
    "        if type(second_row) is str:\n",
    "            change_name_dic[col] = col + \": \" + second_row\n",
    "        last_item = col\n",
    "\n",
    "values_data.rename(change_name_dic, axis=1, inplace=True)\n",
    "values_data = values_data.drop(0)\n",
    "\n",
    "# 重命名表头，取消两边的空格\n",
    "values_data.rename({col: col.strip() for col in values_data}, axis=1, inplace=True)\n",
    "\n",
    "# 更改正确的数据类型\n",
    "values_data = values_data.astype(float, errors=\"ignore\")\n",
    "values_data[\"Year\"] = values_data[\"Year\"].astype(int)\n",
    "values_data.iloc[:, 2:] = values_data.iloc[:, 2:].astype(float)\n",
    "\n",
    "# 整合省份数据\n",
    "perfectures = pd.read_csv(os.path.join(ROOT, \"data/source/perfectures.csv\")).drop(\n",
    "    [\"FID\", \"Shaoefile_\"], axis=1\n",
    ")\n",
    "values_data = pd.merge(\n",
    "    left=values_data,\n",
    "    right=perfectures,\n",
    "    left_on=\"City_ID\",\n",
    "    right_on=\"Perfecture\",\n",
    "    right_index=False,\n",
    ")\n",
    "# values_data = values_data.replace(\"Neimeng\", \"Inner Mongolia\")\n",
    "\n",
    "values_data.head()\n",
    "values_data.to_csv(os.path.join(ROOT, \"data/processed/values_data.csv\"))"
   ]
  },
  {
   "cell_type": "markdown",
   "id": "68badbb4",
   "metadata": {},
   "source": [
    "**Output digestion:**\n",
    "\n",
    "---\n",
    "**Analysis:**\n",
    "这个数据级我们相对比较熟悉了，主要包括了：\n",
    "- 农业灌溉面积（包括总的，和各种作物的面积）以及每个种植作物的单位面积耗水量（通过作物耗水量计算得出）\n",
    "- 多种工业的总产值（GVA），已经是去通货膨胀之后的数据，可以直接用，还有每个产业的单位产出用水量，也是通过水量计算得出的\n",
    "- 城市居民用水、城市人口\n",
    "- 农村居民用水、农村人口\n",
    "- 农村牲畜\n",
    "- 城市服务业产出"
   ]
  },
  {
   "cell_type": "markdown",
   "id": "b8eb0aa9",
   "metadata": {},
   "source": [
    "## Merge source datasets\n",
    "\n",
    "**Abstract:**\n",
    "One-sentence description\n",
    "\n",
    "**Description:**\n",
    "In the following cell, I...\n"
   ]
  },
  {
   "cell_type": "code",
   "execution_count": null,
   "id": "d0397205",
   "metadata": {},
   "outputs": [],
   "source": [
    "# 整合成 Panel 数据\n",
    "agg_data = (\n",
    "    values_data.groupby([\"Province_n\", \"Year\"])\n",
    "    .sum()\n",
    "    .reset_index()\n",
    "    .rename({\"Province_n\": \"Province\"}, axis=1)\n",
    ")\n",
    "merged_data = pd.merge(\n",
    "    how=\"left\", left=agg_data, right=driver_data, on=[\"Province\", \"Year\"]\n",
    ")\n",
    "\n",
    "for col in merged_data:\n",
    "    if \"WU\" in col:\n",
    "        merged_data.drop(col, axis=1, inplace=True)\n",
    "        print(\"Column {} dropped.\".format(col))\n",
    "        # 与WUI有关的列其实都不能用来预测\n",
    "\n",
    "merged_data.head()\n",
    "\n",
    "jinji = (\n",
    "    merged_data[merged_data[\"Province\"].isin([\"Hebei\", \"Tianjin\"])]\n",
    "    .groupby(\"Year\")\n",
    "    .sum()\n",
    "    .reset_index()\n",
    ")\n",
    "jinji.loc[:, \"Province\"] = \"Jinji\"\n",
    "jinji.shape\n",
    "\n",
    "# 为每个单位制作一个独特的、数字的标签\n",
    "province_index = {}\n",
    "i = 1\n",
    "for x in merged_data[\"Province\"]:\n",
    "    if x not in province_index:\n",
    "        province_index[x] = i\n",
    "        i += 1\n",
    "\n",
    "province_index[\"Jinji\"] = 32  # 天津河北作为第32个地理单元\n",
    "index_province = {\n",
    "    province_index[province]: province for province in province_index.keys()\n",
    "}\n",
    "\n",
    "\n",
    "merged_data = merged_data[~merged_data[\"Province\"].isin([\"Hebei\", \"Tianjin\"])].append(\n",
    "    jinji\n",
    ")\n",
    "merged_data[\"Index\"] = merged_data[\"Province\"].map(province_index)\n",
    "merged_data = merged_data.reset_index(drop=True)\n",
    "\n",
    "\n",
    "# 本研究只使用1975--2013年的数据，其它的不 care\n",
    "mask = merged_data[\"Year\"].isin(np.arange(1975, 2013))\n",
    "merged_data = merged_data[mask]\n",
    "\n",
    "print(\"\\nShape after drop:\")\n",
    "merged_data.shape"
   ]
  },
  {
   "cell_type": "markdown",
   "id": "2058b388",
   "metadata": {},
   "source": [
    "**Output digestion:**\n",
    "\n",
    "---\n",
    "**Analysis:**\n",
    "1. \n",
    "2. \n",
    "3. "
   ]
  },
  {
   "cell_type": "markdown",
   "id": "da52042a",
   "metadata": {},
   "source": [
    "## Export Data\n",
    "\n",
    "**Abstract:**\n",
    "One-sentence description\n",
    "\n",
    "**Description:**\n",
    "In the following cell, I...\n"
   ]
  },
  {
   "cell_type": "code",
   "execution_count": null,
   "id": "77f946a0",
   "metadata": {},
   "outputs": [],
   "source": [
    "# existed dataset.\n",
    "pd.read_csv(os.path.join(ROOT, \"data/processed/merged_data.csv\")).shape"
   ]
  },
  {
   "cell_type": "code",
   "execution_count": null,
   "id": "d5ff0078",
   "metadata": {},
   "outputs": [],
   "source": [
    "# 导出预处理之后的数据，用以在其它工作中分析\n",
    "merged_data.to_csv(os.path.join(ROOT, \"data/processed/merged_data.csv\"))\n",
    "merged_data.shape"
   ]
  },
  {
   "cell_type": "markdown",
   "id": "41c2adc3",
   "metadata": {},
   "source": [
    "**Output digestion:**\n",
    "\n",
    "---\n",
    "**Analysis:**\n",
    "1. \n",
    "2. \n",
    "3. "
   ]
  },
  {
   "cell_type": "markdown",
   "id": "708f6706",
   "metadata": {},
   "source": [
    "## GDP\n",
    "\n",
    "**Abstract:**\n",
    "One-sentence description\n",
    "\n",
    "**Description:**\n",
    "In the following cell, I...\n"
   ]
  },
  {
   "cell_type": "code",
   "execution_count": null,
   "id": "2bb95226",
   "metadata": {},
   "outputs": [],
   "source": [
    "gdp = pd.read_excel(\"../data/source/CRE_Gdp01.xlsx\", header=1)\n",
    "gdp[\"省份名称\"] = gdp[\"省份名称\"].str[:2].map(PROVINCES_CHN2ENG)\n",
    "gdp.head()"
   ]
  },
  {
   "cell_type": "code",
   "execution_count": null,
   "id": "e952f092",
   "metadata": {},
   "outputs": [],
   "source": [
    "start, end = 1975, 2012\n",
    "y = \"地区生产总值\"\n",
    "ratio = True\n",
    "\n",
    "\n",
    "def extract_y(y, start, end, ratio=False):\n",
    "    china = gdp[gdp[\"省份名称\"] == \"China\"].set_index(\"年度标识\")\n",
    "    others = gdp[gdp[\"省份名称\"] != \"China\"]\n",
    "\n",
    "    years = np.arange(start, end + 1)\n",
    "    df = pd.DataFrame(index=years, columns=others[\"省份名称\"].unique())\n",
    "    for year in years:\n",
    "        this_year = others[others[\"年度标识\"] == year]\n",
    "        ys = this_year.set_index(\"省份名称\")[y]\n",
    "        if ratio:\n",
    "            ys = ys / china.loc[year, y]\n",
    "        df.loc[year] = ys\n",
    "    return df\n",
    "\n",
    "\n",
    "gdp_test = extract_y(y, start, end)\n",
    "gdp_test.to_csv(\"../data/processed/gdp_test.csv\")"
   ]
  },
  {
   "cell_type": "code",
   "execution_count": null,
   "id": "e8cd403b",
   "metadata": {},
   "outputs": [],
   "source": [
    "used_cols = {\n",
    "    \"年度标识\": \"Year\",\n",
    "    \"省份名称\": \"Province\",\n",
    "    \"地区生产总值\": \"gdp\",\n",
    "    \"地区生产总值－第一产业\": \"gdp-1\",\n",
    "    \"地区生产总值－第二产业\": \"gdp-2\",\n",
    "    \"地区生产总值－第三产业\": \"gdp-3\",\n",
    "    \"人均地区生产总值\": \"gdp-avg\",\n",
    "}\n",
    "\n",
    "used_gdp = pd.DataFrame()\n",
    "for col in used_cols:\n",
    "    used_gdp[used_cols[col]] = gdp[col]\n",
    "used_gdp.head()"
   ]
  },
  {
   "cell_type": "code",
   "execution_count": null,
   "id": "65ad1db4",
   "metadata": {},
   "outputs": [],
   "source": [
    "merged_gdp = pd.merge(\n",
    "    left=merged_data, right=used_gdp, how=\"left\", on=[\"Year\", \"Province\"]\n",
    ").drop(\"Index\", axis=1)\n",
    "merged_gdp.to_csv(\"../data/processed/merged_data.csv\")"
   ]
  },
  {
   "cell_type": "markdown",
   "id": "fc19ca17",
   "metadata": {},
   "source": [
    "## Natural context"
   ]
  },
  {
   "cell_type": "code",
   "execution_count": null,
   "id": "884d5f7b",
   "metadata": {},
   "outputs": [],
   "source": [
    "from config import NATURAL\n",
    "\n",
    "os.chdir(ROOT)\n",
    "\n",
    "NATURAL"
   ]
  },
  {
   "cell_type": "code",
   "execution_count": null,
   "id": "459b5154",
   "metadata": {},
   "outputs": [],
   "source": [
    "merged_data = merged_gdp.copy()\n",
    "\n",
    "for var in NATURAL.keys():\n",
    "    data = pd.read_csv(f\"data/processed/{var}.csv\", index_col=0)\n",
    "    data.columns = data.columns.map(PROVINCES_CHN2ENG, na_action=None)\n",
    "\n",
    "    dfs = []\n",
    "    for col in data:\n",
    "        if col is np.NaN:\n",
    "            continue\n",
    "        dfs.append(\n",
    "            pd.DataFrame(\n",
    "                {\"Year\": data[col].index, \"Province\": col, f\"{var}\": data[col].values}\n",
    "            )\n",
    "        )\n",
    "\n",
    "    df = pd.concat(dfs)\n",
    "    merged_data = pd.merge(\n",
    "        left=merged_data, right=df, how=\"left\", on=[\"Year\", \"Province\"]\n",
    "    )\n",
    "\n",
    "merged_data.head()"
   ]
  },
  {
   "cell_type": "code",
   "execution_count": null,
   "id": "a65b75b9",
   "metadata": {},
   "outputs": [],
   "source": [
    "merged_data.to_csv(\"data/processed/merged_data.csv\")"
   ]
  }
 ],
 "metadata": {
  "kernelspec": {
   "display_name": "Python 3 (ipykernel)",
   "language": "python",
   "name": "python3"
  },
  "language_info": {
   "codemirror_mode": {
    "name": "ipython",
    "version": 3
   },
   "file_extension": ".py",
   "mimetype": "text/x-python",
   "name": "python",
   "nbconvert_exporter": "python",
   "pygments_lexer": "ipython3",
   "version": "3.11.2"
  }
 },
 "nbformat": 4,
 "nbformat_minor": 5
}
