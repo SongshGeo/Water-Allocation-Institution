{
 "cells": [
  {
   "cell_type": "markdown",
   "id": "d0de1aaf",
   "metadata": {},
   "source": [
    "# Appendix S3. Results appendix"
   ]
  },
  {
   "cell_type": "code",
   "execution_count": null,
   "id": "9cf7e2d3",
   "metadata": {},
   "outputs": [],
   "source": [
    "import pandas as pd\n",
    "import numpy as np\n",
    "import seaborn as sns\n",
    "from matplotlib import pyplot as plt\n",
    "import sys\n",
    "import os\n",
    "\n",
    "sys.path.append(\"..\")\n",
    "\n",
    "%matplotlib inline\n",
    "%config InlineBackend.figure_format = 'retina'\n",
    "# plt.style.use('ggplot')\n",
    "plt.rcParams[\"axes.facecolor\"] = \"white\""
   ]
  },
  {
   "cell_type": "code",
   "execution_count": null,
   "id": "e51b3adf",
   "metadata": {},
   "outputs": [],
   "source": [
    "from config import SCHEME_87, ROOT"
   ]
  },
  {
   "cell_type": "markdown",
   "id": "5159b365",
   "metadata": {},
   "source": [
    "## Parallel in economic trend\n",
    "\n",
    "**Abstract:**\n",
    "One-sentence description\n",
    "\n",
    "**Description:**\n",
    "In the following cell, I...\n"
   ]
  },
  {
   "cell_type": "code",
   "execution_count": null,
   "id": "dbcb1673",
   "metadata": {},
   "outputs": [],
   "source": [
    "merged_data = pd.read_csv(\"../data/processed/merged_data.csv\", index_col=0)\n",
    "gdp_cols = []\n",
    "for col in merged_data.columns:\n",
    "    if \"gdp\" in col:\n",
    "        gdp_cols.append(col)\n",
    "\n",
    "merged_data[\"YRB\"] = merged_data[\"Province\"].isin(SCHEME_87.keys())\n",
    "yr_pivot = pd.pivot_table(\n",
    "    merged_data[merged_data[\"YRB\"]], index=[\"Year\"], values=gdp_cols, aggfunc=np.mean\n",
    ").loc[1977:2008]\n",
    "other_pivot = pd.pivot_table(\n",
    "    merged_data[~merged_data[\"YRB\"]], index=[\"Year\"], values=gdp_cols, aggfunc=np.mean\n",
    ").loc[1977:2008]\n",
    "\n",
    "cols = [\"Agriculture\", \"Industry\", \"Services\", \"Average\"]\n",
    "col = \"gdp-1\"\n",
    "\n",
    "fig, (axs1, axs2) = plt.subplots(2, 2, figsize=(8, 8), constrained_layout=True)\n",
    "for i, ax in enumerate([*axs1, *axs2]):\n",
    "    col = gdp_cols[1:][i]\n",
    "    cum_yr = yr_pivot[col].cumsum() / yr_pivot[col].sum()\n",
    "    cum_other = other_pivot[col].cumsum() / other_pivot[col].sum()\n",
    "\n",
    "    ax.plot(cum_yr.index, cum_yr.values, \"-o\", color=\"#e0a418\", label=\"YRB provinces\")\n",
    "    ax.plot(\n",
    "        cum_other.index,\n",
    "        cum_other.values,\n",
    "        \"-o\",\n",
    "        color=\"#f0e9ca\",\n",
    "        label=\"Other provinces\",\n",
    "    )\n",
    "    ax.set_yscale(\"log\")\n",
    "    ax.set_ylabel(f\"GDP on {cols[i]}\")\n",
    "    ax.set_xlabel(\"Year\")\n",
    "    ax.set_xlim(1977, 2008)\n",
    "    ax.axvline(1987, ls=\":\", color=\"gray\", label=\"Institutional shifts\")\n",
    "    ax.axvline(1998, ls=\":\", color=\"gray\")\n",
    "\n",
    "axs1[0].legend()\n",
    "plt.savefig(\"../figs/outputs/economy.pdf\", format=\"pdf\")\n",
    "plt.show();"
   ]
  },
  {
   "cell_type": "markdown",
   "id": "41b082d4",
   "metadata": {},
   "source": [
    "**Output digestion:**\n",
    "\n",
    "---\n",
    "**Analysis:**\n",
    "1. Here, similar trend in GDP between the YRB provinces and other provinces indicate no obvious change after the institutional shifts.\n",
    "2. Thus, economic factors contributes few in changes of water uses of the YRB. \n",
    "3. "
   ]
  },
  {
   "cell_type": "markdown",
   "id": "c87e5308",
   "metadata": {},
   "source": [
    "## GAM-WUI\n",
    "\n",
    "**Abstract:**\n",
    "Analysis WUI changes.\n",
    "\n",
    "**Description:**\n",
    "In the following cell, I...\n"
   ]
  },
  {
   "cell_type": "code",
   "execution_count": null,
   "id": "2b14d261",
   "metadata": {},
   "outputs": [],
   "source": [
    "from func.tools import plot_gam_and_interval"
   ]
  },
  {
   "cell_type": "code",
   "execution_count": null,
   "id": "193dcb80",
   "metadata": {},
   "outputs": [],
   "source": [
    "values_data = pd.read_csv(\"../data/processed/values_data.csv\", index_col=0)\n",
    "\n",
    "from config import SCHEME_87\n",
    "\n",
    "other_provinces = list(set(values_data[\"Province_n\"].unique()) - set(SCHEME_87.keys()))\n",
    "\n",
    "wui_data = {}\n",
    "for col in values_data.columns.to_list():\n",
    "    if \"WUI\" in col and \"Total\" in col:\n",
    "        wui = values_data.groupby([\"Year\", \"Province_n\"])[col].mean()\n",
    "        wui_data[col] = wui\n",
    "\n",
    "data = pd.DataFrame()\n",
    "for y in range(1978, 2009):\n",
    "    for col in wui_data:\n",
    "        data.loc[y, col + \"_yr\"] = wui_data[col][y][SCHEME_87.keys()].mean()\n",
    "        data.loc[y, col + \"_other\"] = wui_data[col][y][other_provinces].mean()\n",
    "\n",
    "# data[['Irrigation water-use intensity (WUI): Total_yr', 'Irrigation water-use intensity (WUI): Total_other']].plot()\n",
    "irr_wui = (\n",
    "    data[\"Irrigation water-use intensity (WUI): Total_yr\"]\n",
    "    - data[\"Irrigation water-use intensity (WUI): Total_other\"]\n",
    ")\n",
    "# data[['Industrial WUI: Total_yr', 'Industrial WUI: Total_other']].plot()\n",
    "ind_wui = data[\"Industrial WUI: Total_yr\"] - data[\"Industrial WUI: Total_other\"]\n",
    "\n",
    "fig, (ax1, ax2) = plt.subplots(1, 2, figsize=(8, 3), constrained_layout=True)\n",
    "plot_gam_and_interval(np.array(irr_wui.index), irr_wui.values, ax=ax1)\n",
    "plot_gam_and_interval(np.array(ind_wui.index), ind_wui.values, ax=ax2)\n",
    "\n",
    "for ax in [ax1, ax2]:\n",
    "    ax.axvline(1987, ls=\":\", color=\"gray\", label=\"Institutional shifts\")\n",
    "    ax.axvline(1998, ls=\":\", color=\"gray\")\n",
    "    ax.set_xlabel(\"Year\")\n",
    "\n",
    "ax1.set_ylabel(\"WUI differences in Agr.\")\n",
    "ax2.set_ylabel(\"WUI differences in Ind.\")\n",
    "ax1.legend()\n",
    "plt.savefig(\"../figs/outputs/S3_wui.pdf\", format=\"pdf\")\n",
    "plt.show();"
   ]
  },
  {
   "cell_type": "markdown",
   "id": "92992112",
   "metadata": {},
   "source": [
    "## Expansion of Agriculture\n",
    "\n",
    "**Abstract:**\n",
    "The ratio between the area equipped for water-conserving irrigation and total irrigated area, where water-conserving irrigation technologies refer to drip or sprinkler irrigation systems and canal lining\n",
    "\n",
    "**Description:**\n",
    "In the following cell, I...\n"
   ]
  },
  {
   "cell_type": "code",
   "execution_count": null,
   "id": "cbd5f1e0",
   "metadata": {},
   "outputs": [],
   "source": [
    "def compare_yr_others_in_merged_dataset(\n",
    "    col,\n",
    "    ax=None,\n",
    "    color_yr=\"black\",\n",
    "    color_others=\"gray\",\n",
    "    how=\"mean\",\n",
    "    start=1987,\n",
    "    end=1998,\n",
    "):\n",
    "    from scipy import stats\n",
    "\n",
    "    if col not in merged_data:\n",
    "        raise f\"{col} not in the dataset.\"\n",
    "    if not ax:\n",
    "        _, ax = plt.subplots()\n",
    "\n",
    "    if how == \"mean\":\n",
    "        yr = merged_data[merged_data[\"YRB\"]].groupby(\"Year\")[col].mean()\n",
    "        others = merged_data[~merged_data[\"YRB\"]].groupby(\"Year\")[col].mean()\n",
    "    elif how == \"cumsum\":\n",
    "        yr = merged_data[merged_data[\"YRB\"]].groupby(\"Year\")[col].sum()\n",
    "        others = merged_data[~merged_data[\"YRB\"]].groupby(\"Year\")[col].sum()\n",
    "        yr = yr.cumsum() / yr.sum()\n",
    "        others = others.cumsum() / others.sum()\n",
    "    elif how == \"diff\":\n",
    "        yr = merged_data[merged_data[\"YRB\"]].groupby(\"Year\")[col].mean()\n",
    "        others = merged_data[~merged_data[\"YRB\"]].groupby(\"Year\")[col].mean()\n",
    "        diff = ((yr - others) / (yr.mean() - others.mean())).dropna(how=\"any\")\n",
    "        plot_gam_and_interval(np.array(diff.index), diff.values, ax=ax)\n",
    "        ax.axvline(1987, ls=\":\", color=\"gray\", label=\"Institutional shifts\")\n",
    "        ax.axvline(1998, ls=\":\", color=\"gray\")\n",
    "        return \"diff\"\n",
    "\n",
    "    ax.plot(yr.index, yr.values, \"-o\", color=color_yr, label=\"YRB provinces\")\n",
    "    ax.plot(\n",
    "        others.index, others.values, \"-o\", color=color_others, label=\"Other provinces\"\n",
    "    )\n",
    "\n",
    "    ax.axvline(1987, ls=\":\", color=\"gray\", label=\"Institutional shift\")\n",
    "    ax.axvline(1998, ls=\":\", color=\"gray\")\n",
    "    ax.set_xlabel(\"Year\")\n",
    "    ax.set_ylabel(col)\n",
    "\n",
    "    t, p_val = stats.ttest_rel(yr.loc[start:end].values, others.loc[start:end].values)\n",
    "    return p_val\n",
    "\n",
    "\n",
    "fig, ax = plt.subplots()\n",
    "p_val = compare_yr_others_in_merged_dataset(\"WCI\", how=\"diff\", ax=ax)\n",
    "print(p_val)\n",
    "ax.legend(loc=2)\n",
    "ax.set_ylabel(\"Water-conserving irrigation ratio\")\n",
    "\n",
    "plt.savefig(\"../figs/outputs/S3_wci.pdf\", format=\"pdf\")\n",
    "plt.show();"
   ]
  },
  {
   "cell_type": "code",
   "execution_count": null,
   "id": "6b6b3ef7",
   "metadata": {},
   "outputs": [],
   "source": [
    "merged_data[\"irr_wui\"] = merged_data[\"IRR\"] / merged_data[\"Irrigated area: Total\"]"
   ]
  },
  {
   "cell_type": "code",
   "execution_count": null,
   "id": "aefff275",
   "metadata": {},
   "outputs": [],
   "source": [
    "compare_yr_others_in_merged_dataset(\"irr_wui\", how=\"diff\")"
   ]
  },
  {
   "cell_type": "code",
   "execution_count": null,
   "id": "460e39ea",
   "metadata": {},
   "outputs": [],
   "source": [
    "compare_yr_others_in_merged_dataset(\"prec\", how=\"diff\")\n",
    "compare_yr_others_in_merged_dataset(\"temp\", how=\"diff\")\n",
    "compare_yr_others_in_merged_dataset(\"wind\", how=\"diff\")"
   ]
  },
  {
   "cell_type": "code",
   "execution_count": null,
   "id": "6db5affc",
   "metadata": {},
   "outputs": [],
   "source": [
    "compare_yr_others_in_merged_dataset(\"Irrigated area: Total\", how=\"diff\")\n",
    "compare_yr_others_in_merged_dataset(\n",
    "    \"Industrial gross value added (GVA): Total\", how=\"diff\"\n",
    ")"
   ]
  },
  {
   "cell_type": "code",
   "execution_count": null,
   "id": "afc46896",
   "metadata": {},
   "outputs": [],
   "source": [
    "merged_data.columns"
   ]
  },
  {
   "cell_type": "code",
   "execution_count": null,
   "id": "703d384d",
   "metadata": {},
   "outputs": [],
   "source": [
    "merged_data[\"pop\"] = merged_data[\"Rural population\"] + merged_data[\"Urban population\"]\n",
    "plt.rcParams[\"xtick.direction\"] = \"in\"\n",
    "plt.rcParams[\"ytick.direction\"] = \"in\"\n",
    "\n",
    "fig, (axs1, axs2) = plt.subplots(2, 4, figsize=(10, 5), constrained_layout=True)\n",
    "var = [\n",
    "    \"prec\",\n",
    "    \"temp\",\n",
    "    \"Irrigated area: Total\",\n",
    "    \"Industrial gross value added (GVA): Total\",\n",
    "    \"Service GVA\",\n",
    "    \"pop\",\n",
    "    \"WCI\",\n",
    "    \"Ratio of industrial water recycling\",\n",
    "]\n",
    "labels = \"ABCDEFGH\"\n",
    "for i, ax in enumerate([*axs1, *axs2]):\n",
    "    compare_yr_others_in_merged_dataset(var[i], ax=ax, how=\"diff\")\n",
    "    ax.set_ylim(-1, 3)\n",
    "    ax.set_xlim(1975, 2008)\n",
    "    ax.set_xlabel(var[i])\n",
    "    ax.axhline(1, ls=\":\", color=\"red\", label=\"Mean diff\")\n",
    "    ax.text(1977, -0.8, f\"{labels[i]}.\", weight=\"bold\")\n",
    "axs1[0].set_ylabel(\"Diff ratio\")\n",
    "axs2[0].set_ylabel(\"Diff ratio\")\n",
    "axs2[0].legend()\n",
    "plt.savefig(\"../figs/outputs/variables.pdf\", format=\"pdf\")\n",
    "plt.show();"
   ]
  },
  {
   "cell_type": "markdown",
   "id": "828da2d8",
   "metadata": {},
   "source": [
    "## WCI for each province\n",
    "\n",
    "**Abstract:**\n",
    "One-sentence description\n",
    "\n",
    "**Description:**\n",
    "In the following cell, I...\n"
   ]
  },
  {
   "cell_type": "code",
   "execution_count": null,
   "id": "ba2effd3",
   "metadata": {},
   "outputs": [],
   "source": [
    "fig, ax = plt.subplots()\n",
    "\n",
    "colors = [\n",
    "    \"22577E\",\n",
    "    \"5584AC\",\n",
    "    \"95D1CC\",\n",
    "    \"FAFFAF\",\n",
    "    \"557B83\",\n",
    "    \"39AEA9\",\n",
    "    \"A2D5AB\",\n",
    "    \"E5EFC1\",\n",
    "    \"C1F8CF\",\n",
    "]\n",
    "x = merged_data.Year.unique()\n",
    "i = 0\n",
    "for province in merged_data.Province.unique():\n",
    "    y = merged_data[merged_data[\"Province\"] == province][\"WCI\"].values\n",
    "    if province in SCHEME_87.keys():\n",
    "        color = f\"#{colors[i]}\"\n",
    "        ax.plot(x, y, color=color, label=province, alpha=0.8)\n",
    "        i += 1\n",
    "    else:\n",
    "        color = \"lightgray\"\n",
    "        ax.plot(x, y, color=color, ls=\"--\", alpha=0.8)\n",
    "ax.legend()\n",
    "plt.show();"
   ]
  },
  {
   "cell_type": "code",
   "execution_count": null,
   "id": "cb1cbb87",
   "metadata": {},
   "outputs": [],
   "source": [
    "merged_data.Province.unique()"
   ]
  }
 ],
 "metadata": {
  "kernelspec": {
   "display_name": "Python 3 (ipykernel)",
   "language": "python",
   "name": "python3"
  },
  "language_info": {
   "codemirror_mode": {
    "name": "ipython",
    "version": 3
   },
   "file_extension": ".py",
   "mimetype": "text/x-python",
   "name": "python",
   "nbconvert_exporter": "python",
   "pygments_lexer": "ipython3",
   "version": "3.11.2"
  }
 },
 "nbformat": 4,
 "nbformat_minor": 5
}
