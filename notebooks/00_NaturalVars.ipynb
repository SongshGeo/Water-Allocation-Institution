{
 "cells": [
  {
   "cell_type": "markdown",
   "id": "1cf36109",
   "metadata": {},
   "source": [
    "# Clean NC Datasets"
   ]
  },
  {
   "cell_type": "code",
   "execution_count": null,
   "id": "6df7909d",
   "metadata": {
    "vscode": {
     "languageId": "python"
    }
   },
   "outputs": [],
   "source": [
    "from matplotlib import pyplot as plt\n",
    "import sys\n",
    "import os\n",
    "\n",
    "sys.path.append(\"..\")\n",
    "\n",
    "%matplotlib inline\n",
    "%config InlineBackend.figure_format = 'retina'\n",
    "# plt.style.use('ggplot')\n",
    "plt.rcParams[\"axes.facecolor\"] = \"white\"\n",
    "\n",
    "from config import ROOT\n",
    "\n",
    "os.chdir(ROOT)"
   ]
  },
  {
   "cell_type": "code",
   "execution_count": null,
   "id": "e4816799",
   "metadata": {
    "vscode": {
     "languageId": "python"
    }
   },
   "outputs": [],
   "source": [
    "import xarray as xr\n",
    "import numpy as np\n",
    "\n",
    "file_path = \"data/source/natural/prec_CMFD_V0106_B-01_01yr_010deg_1979-2018.nc\"\n",
    "\n",
    "ds = xr.open_dataset(file_path)\n",
    "ds\n",
    "ds.prec"
   ]
  },
  {
   "cell_type": "code",
   "execution_count": null,
   "id": "5ea237cc",
   "metadata": {
    "vscode": {
     "languageId": "python"
    }
   },
   "outputs": [],
   "source": [
    "import xarray as xr\n",
    "import numpy as np\n",
    "\n",
    "file_path = \"data/source/natural/temp_CMFD_V0106_B-01_01yr_010deg_1979-2018.nc\"\n",
    "\n",
    "ds = xr.open_dataset(file_path)\n",
    "ds\n",
    "ds.temp"
   ]
  },
  {
   "cell_type": "code",
   "execution_count": null,
   "id": "de440623",
   "metadata": {
    "vscode": {
     "languageId": "python"
    }
   },
   "outputs": [],
   "source": [
    "import geopandas as gpd\n",
    "from func.tools import within_province_mask\n",
    "\n",
    "\n",
    "provinces = gpd.read_file(\"data/source/natural/省级行政区.shp\")\n",
    "provinces = provinces.to_crs(\"epsg:4326\")\n",
    "provinces.plot()"
   ]
  },
  {
   "cell_type": "code",
   "execution_count": null,
   "id": "e02174af",
   "metadata": {
    "vscode": {
     "languageId": "python"
    }
   },
   "outputs": [],
   "source": [
    "ds_mean = ds.to_array(\"prec\").mean(dim=\"time\")\n",
    "ax = provinces.plot(alpha=0.2, color=\"red\", zorder=0.5)\n",
    "ds_mean.plot(ax=ax, zorder=-1)"
   ]
  },
  {
   "cell_type": "code",
   "execution_count": null,
   "id": "c7f1dde7",
   "metadata": {
    "vscode": {
     "languageId": "python"
    }
   },
   "outputs": [],
   "source": [
    "prec = within_province_mask(provinces, ds, \"prec\", longitude=\"lon\", latitude=\"lat\")\n",
    "prec.head()"
   ]
  },
  {
   "cell_type": "code",
   "execution_count": null,
   "id": "4b21875c",
   "metadata": {
    "vscode": {
     "languageId": "python"
    }
   },
   "outputs": [],
   "source": [
    "prec_yr = prec * 365 * 24\n",
    "prec_yr.to_csv(\"data/processed/prec.csv\")"
   ]
  },
  {
   "cell_type": "markdown",
   "id": "4440bc2d",
   "metadata": {},
   "source": [
    "## All data"
   ]
  },
  {
   "cell_type": "code",
   "execution_count": null,
   "id": "545ae13e",
   "metadata": {
    "vscode": {
     "languageId": "python"
    }
   },
   "outputs": [],
   "source": [
    "from func.tools import show_files\n",
    "import tqdm\n",
    "\n",
    "nc_files = show_files(path=\"data/source/natural/\", full_path=True, suffix=\"nc\")\n",
    "datasets = {}\n",
    "for file in tqdm.tqdm(nc_files):\n",
    "    ds = xr.open_dataset(file)\n",
    "    for var in ds.data_vars.keys():\n",
    "        dataset = within_province_mask(\n",
    "            provinces, ds, var, longitude=\"lon\", latitude=\"lat\"\n",
    "        )\n",
    "        long_name = ds.get(var).long_name\n",
    "        if var == \"prec\":\n",
    "            dataset = dataset * 365 * 24  # precipitation rate -> precipitation\n",
    "        dataset.to_csv(f\"data/processed/{var}.csv\")\n",
    "        datasets[var] = long_name\n",
    "\n",
    "datasets.keys()"
   ]
  },
  {
   "cell_type": "code",
   "execution_count": null,
   "id": "f888b9a1",
   "metadata": {
    "vscode": {
     "languageId": "python"
    }
   },
   "outputs": [],
   "source": [
    "datasets"
   ]
  }
 ],
 "metadata": {
  "kernelspec": {
   "display_name": "Python 3 (ipykernel)",
   "language": "python",
   "name": "python3"
  },
  "language_info": {
   "codemirror_mode": {
    "name": "ipython",
    "version": 3
   },
   "file_extension": ".py",
   "mimetype": "text/x-python",
   "name": "python",
   "nbconvert_exporter": "python",
   "pygments_lexer": "ipython3",
   "version": "3.11.2"
  }
 },
 "nbformat": 4,
 "nbformat_minor": 5
}
