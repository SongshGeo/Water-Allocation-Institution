{
 "cells": [
  {
   "cell_type": "markdown",
   "id": "586fb883",
   "metadata": {},
   "source": [
    "# PCA Analysis\n",
    "\n",
    "**Abstract:**\n",
    "One-sentence description\n",
    "\n",
    "**Description:**\n",
    "In the following cell, I...\n"
   ]
  },
  {
   "cell_type": "code",
   "execution_count": null,
   "id": "2685714b",
   "metadata": {
    "tags": []
   },
   "outputs": [],
   "source": [
    "%load_ext autoreload\n",
    "%autoreload 2\n",
    "%matplotlib inline\n",
    "%config InlineBackend.figure_format = 'retina'\n",
    "\n",
    "import pandas as pd\n",
    "\n",
    "\n",
    "from src import fit_pca"
   ]
  },
  {
   "cell_type": "markdown",
   "id": "52ee0133-8793-4949-a85e-f13529487fa7",
   "metadata": {},
   "source": [
    "数据处理过程：\n",
    "\n",
    "按省进行分组平均，丢掉有任何缺失值的省份"
   ]
  },
  {
   "cell_type": "code",
   "execution_count": null,
   "id": "5ff0656a",
   "metadata": {
    "tags": []
   },
   "outputs": [],
   "source": [
    "# 读取数据\n",
    "merged_data = pd.read_csv(r\"../data/processed/merged_data.csv\", index_col=0)\n",
    "merged_mean = merged_data.groupby(\"Province\").mean().dropna(how=\"any\")\n",
    "merged_mean.head()"
   ]
  },
  {
   "cell_type": "markdown",
   "id": "dcefc577-41d9-4b32-9211-02e07d8fcf3f",
   "metadata": {},
   "source": [
    "## Features selection and fit"
   ]
  },
  {
   "cell_type": "code",
   "execution_count": null,
   "id": "bb0dbe8c",
   "metadata": {
    "tags": []
   },
   "outputs": [],
   "source": [
    "Y_input = \"Total water use\"\n",
    "\n",
    "not_features = [\"Province\", \"Year\", \"Total water use\"]\n",
    "X_inputs = [\n",
    "    \"Province\",\n",
    "    \"Year\",\n",
    "    #         'IRR',\n",
    "    #         'Irrigated area: Total',\n",
    "    \"Irrigated area: Rice\",\n",
    "    \"Irrigated area: Wheat\",\n",
    "    \"Irrigated area: Maize\",\n",
    "    \"Irrigated area: Vegetables and fruits\",\n",
    "    \"Irrigated area: Others\",\n",
    "    #         'IND',\n",
    "    #         'Industrial gross value added (GVA): Total',\n",
    "    \"Industrial gross value added (GVA): Textile\",\n",
    "    \"Industrial gross value added (GVA): Papermaking\",\n",
    "    \"Industrial gross value added (GVA): Petrochemicals\",\n",
    "    \"Industrial gross value added (GVA): Metallurgy\",\n",
    "    \"Industrial gross value added (GVA): Mining\",\n",
    "    \"Industrial gross value added (GVA): Food\",\n",
    "    \"Industrial gross value added (GVA): Cements\",\n",
    "    \"Industrial gross value added (GVA): Machinery\",\n",
    "    \"Industrial gross value added (GVA): Electronics\",\n",
    "    \"Industrial gross value added (GVA): Thermal electrivity\",\n",
    "    \"Industrial gross value added (GVA): Others\",\n",
    "    #         'URB',\n",
    "    \"Urban population\",\n",
    "    \"Service GVA\",\n",
    "    #         'RUR',\n",
    "    \"Rural population\",\n",
    "    \"Livestock population\",\n",
    "    \"Total water use\",\n",
    "    #         'area',\n",
    "    #         'PIRR',\n",
    "    #         'AIRR',\n",
    "    \"WCI\",\n",
    "    \"Ratio of industrial water recycling\",\n",
    "    # #         'Ratio of industrial water evaporated',\n",
    "    # #         'gdp',\n",
    "    # #         'gdp-1',\n",
    "    # #         'gdp-2',\n",
    "    # #         'gdp-3',\n",
    "    # #         'gdp-avg',\n",
    "    \"prec\",\n",
    "    \"temp\",\n",
    "    #  'wind',\n",
    "    # PC1,\n",
    "    # PC2,\n",
    "    # PC3,\n",
    "    # PC4,\n",
    "    # PC5\n",
    "]\n",
    "# 5 principals 89.63%\n",
    "features = [f for f in X_inputs if f not in not_features]\n",
    "\n",
    "model, results = fit_pca(merged_mean, features=features, n_components=0.85)\n",
    "fig, ax = model.plot(figsize=(4, 3))\n",
    "fig.savefig(\"../../PhD_Thesis/img/ch5/ch5_elbow.png\", dpi=300)"
   ]
  },
  {
   "cell_type": "markdown",
   "id": "97953a3d",
   "metadata": {},
   "source": [
    "我们进行了主成分分析，使用了24个特征。结果显示，前5个主成分能够解释89.63%的方差变化。其中，第一个主成分解释了方差变化的51.6%，第二个主成分解释了16.9%的方差变化。这表明，前两个主成分是最重要的，能够代表大部分原始特征的变异程度。"
   ]
  },
  {
   "cell_type": "markdown",
   "id": "b1a189c4-6978-40b5-870a-2fdc406ceeb9",
   "metadata": {},
   "source": [
    "## Biplot of the Components"
   ]
  },
  {
   "cell_type": "code",
   "execution_count": null,
   "id": "b9ab80ab",
   "metadata": {
    "tags": []
   },
   "outputs": [],
   "source": [
    "fontdict = {\"weight\": \"normal\", \"size\": 9, \"ha\": \"center\", \"va\": \"center\", \"c\": \"black\"}\n",
    "fig, ax = model.biplot(\n",
    "    figsize=(5, 4),\n",
    "    s=0,  # merged_mean[Y_input].values\n",
    "    n_feat=8,\n",
    "    jitter=0.01,\n",
    "    legend=False,\n",
    "    label=False,\n",
    "    # SPE=True,\n",
    "    fontdict=fontdict,\n",
    "    # alpha_transparency=0.6,\n",
    "    hotellingt2=True,\n",
    "    title=\"\",\n",
    ")"
   ]
  },
  {
   "cell_type": "code",
   "execution_count": null,
   "id": "58812199-a9b1-47bf-9f3b-1b9b1d401a4a",
   "metadata": {
    "tags": []
   },
   "outputs": [],
   "source": [
    "from mksci_font import mksci_font\n",
    "from pca.pca import _get_coordinates\n",
    "\n",
    "\n",
    "@mksci_font(xlabel=\"主成分1\", ylabel=\"主成分2\")\n",
    "def better_biplot(fig, ax):\n",
    "    xs, ys, zs, ax = _get_coordinates(model.results[\"PC\"], [0, 1], fig, ax, False)\n",
    "    ax.scatter(\n",
    "        xs,\n",
    "        ys,\n",
    "        s=merged_mean[Y_input].values * 30,\n",
    "        alpha=0.4,\n",
    "        edgecolors=\"white\",\n",
    "        color=\"white\",\n",
    "    )\n",
    "    ax.grid(False)\n",
    "    return ax\n",
    "\n",
    "\n",
    "better_biplot(fig, ax)\n",
    "\n",
    "# 保存到毕业论文的作图区\n",
    "fig.savefig(r\"../../PhD_Thesis/img/ch5/ch5_biplot.png\", dpi=300)\n",
    "\n",
    "description = \"\"\"\n",
    "这里的\n",
    "\"\"\"\n",
    "fig"
   ]
  },
  {
   "cell_type": "markdown",
   "id": "8c3972bd-d4f4-4d21-8449-01fb923418b6",
   "metadata": {},
   "source": [
    "## Find Significant Features"
   ]
  },
  {
   "cell_type": "markdown",
   "id": "dfff7d9e-f79b-4bc1-bc87-671189de0f7c",
   "metadata": {},
   "source": [
    "In order to test the **significance of the PCA loadings**, we used a combination of three methods: \n",
    "1) the bootstrapped eigenvector method3\n",
    "2) the threshold method loadings are significant when their absolute value and contribution are larger than a specific threshold depending on the number of dimensions (ndim , i.e. variables), and \n",
    "3) a fixed threshold fixed according to Richman et al.\n",
    "\n",
    "In practice the loadings are significant, and considered as “high relevance”, if \n",
    "1) the p-value from method 1 is below 0.01; \n",
    "2) their contribution is above 1/ndim (i.e. above 8.3%);\n",
    "3) the absolute value of the loadings is above 0.34. \n",
    "\n",
    "\n",
    "The results are summarized in Table S3\n",
    "\n",
    "@migliavacca2021"
   ]
  },
  {
   "cell_type": "code",
   "execution_count": null,
   "id": "948ed963-5635-454d-a68f-d1e4ad3305ae",
   "metadata": {
    "tags": []
   },
   "outputs": [],
   "source": [
    "from matplotlib import pyplot as plt\n",
    "\n",
    "\n",
    "def sig_loadings(model, pc=1, method=\"contribution\", color=\"c\", threshold=0.3, ax=None):\n",
    "    loadings = model.results[\"loadings\"]\n",
    "    if not ax:\n",
    "        _, ax = plt.subplots(figsize=(2.5, 6))\n",
    "    if method == \"contribution\":\n",
    "        threshold = 1 / len(loadings)\n",
    "    data = loadings.loc[f\"PC{pc}\"]\n",
    "    if isinstance(color, str):\n",
    "        colors = [\"lightgray\" if abs(da) < threshold else color for da in data]\n",
    "    elif hasattr(color, \"__iter__\"):\n",
    "        colors = [\n",
    "            \"lightgray\" if abs(da) < threshold else color[i]\n",
    "            for i, da in enumerate(data)\n",
    "        ]\n",
    "    ax.barh(width=data.values, y=data.index, color=colors)\n",
    "\n",
    "    # 美化\n",
    "    ax.spines[[\"top\", \"left\", \"right\"]].set_visible(False)\n",
    "    ax.set_yticks([])\n",
    "    ax.set_xlabel(f\"PC{pc}\")\n",
    "    # ax.set_xlim(-threshold-.05, +threshold+.05)\n",
    "    return ax\n",
    "\n",
    "\n",
    "sig_loadings(model)"
   ]
  },
  {
   "cell_type": "code",
   "execution_count": null,
   "id": "07c7887f-c8cf-4637-8768-2bc2e03ee928",
   "metadata": {
    "tags": []
   },
   "outputs": [],
   "source": [
    "model.results.keys()"
   ]
  },
  {
   "cell_type": "code",
   "execution_count": null,
   "id": "9bfddacc-5638-4e3c-bf58-b96bf4ef343d",
   "metadata": {
    "tags": []
   },
   "outputs": [],
   "source": [
    "fig, axs = plt.subplots(1, 5, figsize=(10, 6))\n",
    "\n",
    "for i, ax in enumerate(axs):\n",
    "    sig_loadings(model, i + 1, ax=ax)"
   ]
  },
  {
   "cell_type": "raw",
   "id": "2ec88caa-2e9c-4f40-8383-feb0464ffeac",
   "metadata": {
    "tags": []
   },
   "source": [
    "from src.filter_features import transform_features\n",
    "\n",
    "results = transform_features(\n",
    "    transform_data=merged_data, features=features, fitted_model=model\n",
    ")\n",
    "print(results.shape)\n",
    "results.head()"
   ]
  }
 ],
 "metadata": {
  "kernelspec": {
   "display_name": "Python 3 (ipykernel)",
   "language": "python",
   "name": "python3"
  },
  "language_info": {
   "codemirror_mode": {
    "name": "ipython",
    "version": 3
   },
   "file_extension": ".py",
   "mimetype": "text/x-python",
   "name": "python",
   "nbconvert_exporter": "python",
   "pygments_lexer": "ipython3",
   "version": "3.11.2"
  },
  "vscode": {
   "interpreter": {
    "hash": "add3c9c7f626e6723160c4d718f9b31bf83efe31251d7b68befcfcd902ec8003"
   }
  }
 },
 "nbformat": 4,
 "nbformat_minor": 5
}
