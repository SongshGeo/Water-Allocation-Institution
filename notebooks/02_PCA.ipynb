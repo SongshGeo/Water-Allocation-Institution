{
 "cells": [
  {
   "cell_type": "markdown",
   "id": "586fb883",
   "metadata": {},
   "source": [
    "# PCA Analysis\n",
    "\n",
    "**Abstract:**\n",
    "One-sentence description\n",
    "\n",
    "**Description:**\n",
    "In the following cell, I...\n"
   ]
  },
  {
   "cell_type": "code",
   "execution_count": null,
   "id": "2685714b",
   "metadata": {},
   "outputs": [],
   "source": [
    "%load_ext autoreload\n",
    "%autoreload 2\n",
    "%matplotlib inline\n",
    "%config InlineBackend.figure_format = 'retina'\n",
    "\n",
    "import sys\n",
    "import os\n",
    "\n",
    "sys.path.append(\"..\")\n",
    "\n",
    "from config import ROOT\n",
    "\n",
    "os.chdir(ROOT)"
   ]
  },
  {
   "cell_type": "code",
   "execution_count": null,
   "id": "5ff0656a",
   "metadata": {},
   "outputs": [],
   "source": [
    "import pandas as pd\n",
    "\n",
    "merged_data = pd.read_csv(r\"data/processed/merged_data.csv\", index_col=0)\n",
    "merged_mean = merged_data.groupby(\"Province\").mean().dropna(how=\"any\")\n",
    "merged_mean.head()"
   ]
  },
  {
   "cell_type": "code",
   "execution_count": null,
   "id": "bb0dbe8c",
   "metadata": {},
   "outputs": [],
   "source": [
    "from core.src.filter_features import fit_pca, transform_features\n",
    "from pca import pca\n",
    "\n",
    "Y_input = \"Total water use\"\n",
    "not_features = [\"Province\", \"Year\", \"Total water use\"]\n",
    "X_inputs = [\n",
    "    \"Province\",\n",
    "    \"Year\",\n",
    "    #         'IRR',\n",
    "    #         'Irrigated area: Total',\n",
    "    \"Irrigated area: Rice\",\n",
    "    \"Irrigated area: Wheat\",\n",
    "    \"Irrigated area: Maize\",\n",
    "    \"Irrigated area: Vegetables and fruits\",\n",
    "    \"Irrigated area: Others\",\n",
    "    #         'IND',\n",
    "    #         'Industrial gross value added (GVA): Total',\n",
    "    \"Industrial gross value added (GVA): Textile\",\n",
    "    \"Industrial gross value added (GVA): Papermaking\",\n",
    "    \"Industrial gross value added (GVA): Petrochemicals\",\n",
    "    \"Industrial gross value added (GVA): Metallurgy\",\n",
    "    \"Industrial gross value added (GVA): Mining\",\n",
    "    \"Industrial gross value added (GVA): Food\",\n",
    "    \"Industrial gross value added (GVA): Cements\",\n",
    "    \"Industrial gross value added (GVA): Machinery\",\n",
    "    \"Industrial gross value added (GVA): Electronics\",\n",
    "    \"Industrial gross value added (GVA): Thermal electrivity\",\n",
    "    \"Industrial gross value added (GVA): Others\",\n",
    "    #         'URB',\n",
    "    \"Urban population\",\n",
    "    \"Service GVA\",\n",
    "    #         'RUR',\n",
    "    \"Rural population\",\n",
    "    \"Livestock population\",\n",
    "    \"Total water use\",\n",
    "    #         'area',\n",
    "    #         'PIRR',\n",
    "    #         'AIRR',\n",
    "    \"WCI\",\n",
    "    \"Ratio of industrial water recycling\",\n",
    "    # #         'Ratio of industrial water evaporated',\n",
    "    # #         'gdp',\n",
    "    # #         'gdp-1',\n",
    "    # #         'gdp-2',\n",
    "    # #         'gdp-3',\n",
    "    # #         'gdp-avg',\n",
    "    \"prec\",\n",
    "    \"temp\",\n",
    "    #  'wind',\n",
    "    # PC1,\n",
    "    # PC2,\n",
    "    # PC3,\n",
    "    # PC4,\n",
    "    # PC5\n",
    "]\n",
    "# 5 principals 89.63%\n",
    "features = [f for f in X_inputs if f not in not_features]\n",
    "\n",
    "model, results = fit_pca(merged_mean, features=features, n_components=0.85)\n",
    "fig, ax = model.plot(figsize=(4, 3))\n",
    "# fig.savefig('figs/outputs/elbow.pdf', format='pdf')"
   ]
  },
  {
   "cell_type": "code",
   "execution_count": null,
   "id": "5ec3f6e8",
   "metadata": {},
   "outputs": [],
   "source": [
    "from core.src.filter_features import transform_features\n",
    "\n",
    "results = transform_features(\n",
    "    transform_data=merged_mean, features=features, fitted_model=model\n",
    ")\n",
    "results.head()"
   ]
  },
  {
   "cell_type": "code",
   "execution_count": null,
   "id": "a5240a27",
   "metadata": {},
   "outputs": [],
   "source": [
    "model.biplot()"
   ]
  }
 ],
 "metadata": {
  "kernelspec": {
   "display_name": ".venv",
   "language": "python",
   "name": "python3"
  },
  "language_info": {
   "codemirror_mode": {
    "name": "ipython",
    "version": 3
   },
   "file_extension": ".py",
   "mimetype": "text/x-python",
   "name": "python",
   "nbconvert_exporter": "python",
   "pygments_lexer": "ipython3",
   "version": "3.11.2"
  },
  "vscode": {
   "interpreter": {
    "hash": "add3c9c7f626e6723160c4d718f9b31bf83efe31251d7b68befcfcd902ec8003"
   }
  }
 },
 "nbformat": 4,
 "nbformat_minor": 5
}
