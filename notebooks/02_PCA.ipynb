{
 "cells": [
  {
   "cell_type": "markdown",
   "id": "586fb883",
   "metadata": {},
   "source": [
    "# PCA Analysis\n",
    "\n",
    "Principal Component Analysis (PCA) is a technique used to reduce the dimensionality of large data sets. PCA creates a new set of variables that are linear combinations of the original variables. The new variables, called principal components (PCs), are ranked in order of how much of the variation in the original data they explain.\n",
    "\n",
    "Here are some steps to analyze the results of a PCA:\n",
    "\n",
    "1. Check the amount of variation explained by each principal component. This can be done using the `explained_variance_ratio` attribute of the PCA object. The sum of the variance ratios for all the principal components should be equal to 1.\n",
    "2. Look at the loadings of the original variables on each principal component. The loadings represent the correlation between each original variable and the principal component. You can access the loadings using the components_ attribute of the PCA object.\n",
    "3. Plot the scores for each principal component to see how the observations relate to each other based on the principal components.\n",
    "4. Check the correlation between the original variables to see if there are any patterns in the data that are not captured by the principal components.\n",
    "\n",
    "Use the principal components as input variables for subsequent analysis, such as regression or clustering.\n",
    "Overall, PCA can be a useful tool for data analysis and visualization, but it is important to interpret the results carefully and consider the limitations of the technique.Here are some steps to analyze the results of a PCA:\n"
   ]
  },
  {
   "cell_type": "markdown",
   "id": "272095f6-3bd9-4ee7-add6-caf901f03d85",
   "metadata": {},
   "source": [
    "主成分分析（Principal Components Analysis, PCA）是一种用于降低大型数据集维度的技术。PCA 利用原始变量的线性组合创建了一个新的变量集，这些新的变量被称为主成分（PC），按照它们在原始数据中解释方差变化的大小顺序进行排序。\n",
    "Bayan（2021）已证明了将PCA与合成控制法（Synth Control, SC）相结合可以提高其因果推理的鲁棒性 @bayani2021。"
   ]
  },
  {
   "cell_type": "code",
   "execution_count": null,
   "id": "2685714b",
   "metadata": {
    "tags": []
   },
   "outputs": [],
   "source": [
    "%load_ext autoreload\n",
    "%autoreload 2\n",
    "%matplotlib inline\n",
    "%config InlineBackend.figure_format = 'retina'\n",
    "from IPython.core.interactiveshell import InteractiveShell\n",
    "\n",
    "InteractiveShell.ast_node_interactivity = \"all\"\n",
    "from mksci_font import config_font, mksci_font\n",
    "import pandas as pd\n",
    "from core.src import VARS_EN2CH\n",
    "\n",
    "from src import fit_pca\n",
    "\n",
    "config_font()"
   ]
  },
  {
   "cell_type": "markdown",
   "id": "52ee0133-8793-4949-a85e-f13529487fa7",
   "metadata": {},
   "source": [
    "数据处理过程：\n",
    "\n",
    "按省进行分组平均，丢掉有任何缺失值的省份"
   ]
  },
  {
   "cell_type": "code",
   "execution_count": null,
   "id": "5ff0656a",
   "metadata": {
    "tags": []
   },
   "outputs": [],
   "source": [
    "# 读取数据\n",
    "\n",
    "X_inputs = [var for _, var in VARS_EN2CH.items()]\n",
    "\n",
    "\n",
    "merged_data = pd.read_csv(r\"../data/processed/merged_data.csv\", index_col=0).rename(\n",
    "    VARS_EN2CH, axis=1\n",
    ")\n",
    "merged_mean = merged_data.groupby(\"Province\").mean().dropna(how=\"any\")\n",
    "merged_mean.head()"
   ]
  },
  {
   "cell_type": "markdown",
   "id": "9bf092d5-1fba-42ab-b05c-eee921d136c0",
   "metadata": {},
   "source": [
    "数据集的空间范围包括中国$30$个省、自治区、直辖市和地区（不包括台湾、香港、澳门；天津和河北因在分水政策中被合在一起考虑，因此合并两地数据为“津冀”）。\n",
    "数据集的时间范围涵盖两次政策前后各十年，即$1979$年至$2008$年，数据所有特征在该时间段内均无任何缺失值。"
   ]
  },
  {
   "cell_type": "code",
   "execution_count": null,
   "id": "cce0225c-0489-44e0-a3aa-07f19efed242",
   "metadata": {
    "tags": []
   },
   "outputs": [],
   "source": [
    "# 考虑的省份\n",
    "merged_data.Province.unique()\n",
    "\n",
    "# 时间范围\n",
    "merged_data.Year.unique()\n",
    "\n",
    "subset = merged_data[(merged_data.Year > 1978) & (merged_data.Year < 2009)]\n",
    "# subset[features].isna().sum().plot.bar(figsize=(6, 2))"
   ]
  },
  {
   "cell_type": "code",
   "execution_count": null,
   "id": "6b30d0ac-746e-49ac-b807-5c79a13c2fc4",
   "metadata": {
    "tags": []
   },
   "outputs": [],
   "source": [
    "# 查看缺失情况，自然条件的 jinji 数据缺失，不影响后续分析\n",
    "# merged_data.groupby('Year')[features].count()"
   ]
  },
  {
   "cell_type": "markdown",
   "id": "dcefc577-41d9-4b32-9211-02e07d8fcf3f",
   "metadata": {},
   "source": [
    "## Features selection and fit"
   ]
  },
  {
   "cell_type": "markdown",
   "id": "ca49ae0a-65eb-4cb9-a303-dd609ac1756c",
   "metadata": {},
   "source": [
    "面板数据不能直接应用 PCA，本章研究将所有预处理后的数据沿时间轴进行多年平均，对均值使用主成分分析（PCA）进行降维，将得到的主成分按照其在原始数据中解释方差变化的大小顺序进行排序，并用肘部法确定主成分的个数，从而降低反事实推断合成控制模型的自由度。\n"
   ]
  },
  {
   "cell_type": "code",
   "execution_count": null,
   "id": "bb0dbe8c",
   "metadata": {
    "tags": []
   },
   "outputs": [],
   "source": [
    "Y_input = \"Total water use\"\n",
    "\n",
    "not_features = [\"Province\", \"Year\", \"Total water use\"]\n",
    "\n",
    "# 5 principals 89.63%\n",
    "features = [f for f in X_inputs if f not in not_features]\n",
    "\n",
    "model, results = fit_pca(merged_mean, features=features, n_components=0.85)\n",
    "fig, ax = model.plot(figsize=(6, 3))\n",
    "\n",
    "\n",
    "@mksci_font(xlabel=\"主成分\", ylabel=\"方差解释率\")\n",
    "def better_elbow_plot(ax):\n",
    "    ax.set_title(\"\")\n",
    "    ax.grid(False)\n",
    "    return ax\n",
    "\n",
    "\n",
    "ax = better_elbow_plot(ax)\n",
    "fig.savefig(\"../../PhD_Thesis/img/ch5/ch5_elbow.png\", dpi=300)"
   ]
  },
  {
   "cell_type": "code",
   "execution_count": null,
   "id": "7486c4de-e0bb-4745-877d-db7ad3d90a04",
   "metadata": {
    "tags": []
   },
   "outputs": [],
   "source": [
    "model.results[\"explained_var\"]"
   ]
  },
  {
   "cell_type": "markdown",
   "id": "97953a3d",
   "metadata": {},
   "source": [
    "其中第一个主成分解释了方差变化的$51.6\\%$，第二个主成分解释了$16.9\\%$的方差变化，是对区域用水量影响最大的两个轴，其余主成分对用水量的解释力均低于$10\\%$。其中第一个主成分解释了方差变化的$51.6\\%$，第二个主成分解释了$16.9\\%$的方差变化，是对区域用水量影响最大的两个轴，其余主成分对用水量的解释力均低于$10\\%$。"
   ]
  },
  {
   "cell_type": "markdown",
   "id": "b1a189c4-6978-40b5-870a-2fdc406ceeb9",
   "metadata": {},
   "source": [
    "## Biplot of the Components"
   ]
  },
  {
   "cell_type": "code",
   "execution_count": null,
   "id": "b9ab80ab",
   "metadata": {
    "tags": []
   },
   "outputs": [],
   "source": [
    "fontdict = {\"weight\": \"normal\", \"size\": 9, \"ha\": \"center\", \"va\": \"center\", \"c\": \"black\"}\n",
    "fig, ax = model.biplot(\n",
    "    figsize=(5, 4),\n",
    "    s=0,  # merged_mean[Y_input].values\n",
    "    n_feat=10,\n",
    "    jitter=0.01,\n",
    "    legend=False,\n",
    "    label=False,\n",
    "    SPE=True,\n",
    "    fontdict=fontdict,\n",
    "    # alpha_transparency=0.6,\n",
    "    hotellingt2=True,\n",
    "    title=\"\",\n",
    ")"
   ]
  },
  {
   "cell_type": "code",
   "execution_count": null,
   "id": "58812199-a9b1-47bf-9f3b-1b9b1d401a4a",
   "metadata": {
    "tags": []
   },
   "outputs": [],
   "source": [
    "from mksci_font import mksci_font\n",
    "from pca.pca import _get_coordinates\n",
    "\n",
    "\n",
    "@mksci_font(xlabel=\"主成分1\", ylabel=\"主成分2\")\n",
    "def better_biplot(fig, ax):\n",
    "    xs, ys, zs, ax = _get_coordinates(model.results[\"PC\"], [0, 1], fig, ax, False)\n",
    "    ax.scatter(\n",
    "        xs,\n",
    "        ys,\n",
    "        s=merged_mean[Y_input].values * 30,\n",
    "        alpha=0.4,\n",
    "        edgecolors=\"white\",\n",
    "        color=\"white\",\n",
    "    )\n",
    "    ax.grid(False)\n",
    "    return ax\n",
    "\n",
    "\n",
    "better_biplot(fig, ax)\n",
    "\n",
    "# 保存到毕业论文的作图区\n",
    "fig.savefig(r\"../../PhD_Thesis/img/ch5/ch5_biplot.png\", dpi=300)\n",
    "\n",
    "description = \"\"\"\n",
    "这里的\n",
    "\"\"\"\n",
    "fig"
   ]
  },
  {
   "cell_type": "markdown",
   "id": "8c3972bd-d4f4-4d21-8449-01fb923418b6",
   "metadata": {},
   "source": [
    "## Find Significant Features"
   ]
  },
  {
   "cell_type": "markdown",
   "id": "dfff7d9e-f79b-4bc1-bc87-671189de0f7c",
   "metadata": {},
   "source": [
    "In order to test the **significance of the PCA loadings**, we used a combination of three methods: \n",
    "1) the bootstrapped eigenvector method3\n",
    "2) the threshold method loadings are significant when their absolute value and contribution are larger than a specific threshold depending on the number of dimensions (ndim , i.e. variables), and \n",
    "3) a fixed threshold fixed according to Richman et al.\n",
    "\n",
    "In practice the loadings are significant, and considered as “high relevance”, if \n",
    "1) the p-value from method 1 is below 0.01; \n",
    "2) their contribution is above 1/ndim (i.e. above 8.3%);\n",
    "3) the absolute value of the loadings is above 0.34. \n",
    "\n",
    "\n",
    "负荷率代表每个原始变量与主成分之间的相关性，通过原始变量在每个主成分上的负荷，可以分析对区域用水量贡献最大的主成分与特征集合有关，了解用水量影响特征与主成分的相互关系。\n",
    "参考 Mirco 等人（2021）的研究，每个特征对于特定主成分的贡献是否显著主要有三种方法：特征向量法、负荷阈值法、固定阈值法~\\cite{migliavacca2021}。\n",
    "本章研究采用负荷阈值法分析各特征对不同主成分的贡献，即当负荷值的绝对值和贡献大于与维数（即变量）相关的特定阈值时（即$|{x_{loading}}| > 1/N_{dims}$），认为该特征对当前主成分的贡献显著。\n",
    "\n",
    "@migliavacca2021"
   ]
  },
  {
   "cell_type": "code",
   "execution_count": null,
   "id": "948ed963-5635-454d-a68f-d1e4ad3305ae",
   "metadata": {
    "tags": []
   },
   "outputs": [],
   "source": [
    "from matplotlib import pyplot as plt\n",
    "\n",
    "\n",
    "def sig_loadings(\n",
    "    model,\n",
    "    pc=1,\n",
    "    method=\"contribution\",\n",
    "    color=\"#0889a6\",\n",
    "    threshold=0.3,\n",
    "    ax=None,\n",
    "    ticklabels=True,\n",
    "):\n",
    "    loadings = model.results[\"loadings\"]\n",
    "    if not ax:\n",
    "        _, ax = plt.subplots(figsize=(2.5, 6))\n",
    "    if method == \"contribution\":\n",
    "        threshold = 1 / len(loadings)\n",
    "    data = loadings.loc[f\"PC{pc}\"]\n",
    "    if isinstance(color, str):\n",
    "        colors = [\"lightgray\" if abs(da) < threshold else color for da in data]\n",
    "    elif hasattr(color, \"__iter__\"):\n",
    "        colors = [\n",
    "            \"lightgray\" if abs(da) < threshold else color[i]\n",
    "            for i, da in enumerate(data)\n",
    "        ]\n",
    "    ax.barh(width=data.values, y=data.index, color=colors)\n",
    "\n",
    "    # 美化\n",
    "    if ticklabels:\n",
    "        ax.set_yticklabels(data.index)\n",
    "    else:\n",
    "        ax.set_yticklabels([])\n",
    "    ax.spines[[\"top\", \"left\", \"right\"]].set_visible(False)\n",
    "    ax.set_xlabel(f\"PC{pc}\")\n",
    "    ax.axvline(0, ls=\":\", color=\"black\")\n",
    "    ax.tick_params(axis=\"y\", length=1.5, direction=\"in\")\n",
    "    return ax\n",
    "\n",
    "\n",
    "sig_loadings(model)"
   ]
  },
  {
   "cell_type": "code",
   "execution_count": null,
   "id": "07c7887f-c8cf-4637-8768-2bc2e03ee928",
   "metadata": {
    "tags": []
   },
   "outputs": [],
   "source": [
    "model.results.keys()"
   ]
  },
  {
   "cell_type": "code",
   "execution_count": null,
   "id": "9bfddacc-5638-4e3c-bf58-b96bf4ef343d",
   "metadata": {
    "tags": []
   },
   "outputs": [],
   "source": [
    "fig, axs = plt.subplots(1, 5, figsize=(10, 6))\n",
    "\n",
    "for i, ax in enumerate(axs):\n",
    "    if i == 0:\n",
    "        tickslabeles = True\n",
    "    else:\n",
    "        tickslabeles = False\n",
    "    sig_loadings(model, i + 1, ax=ax, ticklabels=tickslabeles)\n",
    "    ax.set_xlabel(f\"主成分{i+1}\")\n",
    "    ax.spines[[\"left\"]].set_visible(True)\n",
    "\n",
    "fig.savefig(\"../../PhD_Thesis/img/ch5/ch5_variables.png\")\n",
    "plt.show();"
   ]
  },
  {
   "cell_type": "code",
   "execution_count": null,
   "id": "1555fcf7-9b36-4d09-8833-40b44a0b2ae1",
   "metadata": {
    "tags": []
   },
   "outputs": [],
   "source": [
    "from src.filter_features import transform_features\n",
    "\n",
    "results = transform_features(\n",
    "    transform_data=merged_data, features=features, fitted_model=model\n",
    ")\n",
    "print(results.shape)\n",
    "results.to_csv(\"../data/processed/pca_transformed_0.85.csv\")"
   ]
  },
  {
   "cell_type": "code",
   "execution_count": null,
   "id": "c6b301a5-9317-416e-85b0-4080f0f6fa6c",
   "metadata": {},
   "outputs": [],
   "source": []
  }
 ],
 "metadata": {
  "kernelspec": {
   "display_name": "Python 3 (ipykernel)",
   "language": "python",
   "name": "python3"
  },
  "language_info": {
   "codemirror_mode": {
    "name": "ipython",
    "version": 3
   },
   "file_extension": ".py",
   "mimetype": "text/x-python",
   "name": "python",
   "nbconvert_exporter": "python",
   "pygments_lexer": "ipython3",
   "version": "3.11.2"
  },
  "vscode": {
   "interpreter": {
    "hash": "add3c9c7f626e6723160c4d718f9b31bf83efe31251d7b68befcfcd902ec8003"
   }
  }
 },
 "nbformat": 4,
 "nbformat_minor": 5
}
