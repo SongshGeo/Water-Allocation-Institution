{
 "cells": [
  {
   "cell_type": "markdown",
   "id": "0af43416",
   "metadata": {},
   "source": [
    "# Context"
   ]
  },
  {
   "cell_type": "markdown",
   "id": "aa9259ed",
   "metadata": {},
   "source": [
    "## Title\n",
    "\n",
    "**Abstract:**\n",
    "One-sentence description\n",
    "\n",
    "**Description:**\n",
    "In the following cell, I...\n"
   ]
  },
  {
   "cell_type": "code",
   "execution_count": null,
   "id": "c7fcbfc1",
   "metadata": {},
   "outputs": [],
   "source": []
  },
  {
   "cell_type": "markdown",
   "id": "60093d40",
   "metadata": {},
   "source": [
    "## Yellow River Breaks\n",
    "\n",
    "**Abstract:**\n",
    "One-sentence description\n",
    "\n",
    "**Description:**\n",
    "In the following cell, I...\n"
   ]
  },
  {
   "cell_type": "code",
   "execution_count": null,
   "id": "59e9d0ea",
   "metadata": {},
   "outputs": [],
   "source": [
    "outage = pd.read_excel(r\"../data/river break.xlsx\")\n"
   ]
  },
  {
   "cell_type": "code",
   "execution_count": null,
   "id": "18cd667b",
   "metadata": {},
   "outputs": [],
   "source": [
    "\n",
    "fig, ax = plt.subplots(figsize=(9, 2))\n",
    "ax.scatter(\n",
    "    x=outage['年份'],\n",
    "    y=outage['断流天数'],\n",
    "    s=outage['断流长度'],\n",
    "    color=nature_colors['Nature'],\n",
    "    edgecolors=nature_colors['Nature'],\n",
    "    linewidth=1.5,\n",
    "    alpha=0.4,\n",
    "#     label='Length of drying-up ($km$)',\n",
    "    zorder=1\n",
    ")\n",
    "ax.set_xlim(1970, 2010)\n",
    "ax.set_ylim(-10, 170)\n",
    "ax.axvline(1987, ls=':', color=nature_colors['NS'], lw=3, label='Policy 1', zorder=0)\n",
    "ax.axvline(1998, ls=':', color=nature_colors['NG'], lw=3, label='Policy 2', zorder=0)\n",
    "ax.axvline(1975, ls='-.', color='gray', lw=1, label='Study period division')\n",
    "ax.axvline(2008, ls='-.', color='gray', lw=1)\n",
    "ax.spines['top'].set_visible(False)\n",
    "ax.spines['left'].set_visible(False)\n",
    "ax.spines['right'].set_visible(False)\n",
    "ax.spines['bottom'].set_visible(True)\n",
    "\n",
    "# ax.axvspan(1975, 1987, alpha=0.1, label='Structure 1')\n",
    "# ax.axvspan(1987, 1998, alpha=0.1, color='red', label='Mismatched institution')\n",
    "# ax.axvspan(1998, 2008, alpha=0.1, color='green', label='Structure 3')\n",
    "\n",
    "ax.set_xlabel(\"Year\")\n",
    "ax.set_ylabel(\"Drying-up / days\")\n",
    "ax.legend(loc=1)\n",
    "plt.savefig(\"../figs/drying_up.jpg\", dpi=300);\n",
    "plt.show();"
   ]
  }
 ],
 "metadata": {
  "kernelspec": {
   "display_name": "WAInstitution",
   "language": "python",
   "name": "wainstitution"
  },
  "language_info": {
   "codemirror_mode": {
    "name": "ipython",
    "version": 3
   },
   "file_extension": ".py",
   "mimetype": "text/x-python",
   "name": "python",
   "nbconvert_exporter": "python",
   "pygments_lexer": "ipython3",
   "version": "3.8.12"
  }
 },
 "nbformat": 4,
 "nbformat_minor": 5
}
