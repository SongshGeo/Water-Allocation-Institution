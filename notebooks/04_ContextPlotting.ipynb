{
 "cells": [
  {
   "cell_type": "markdown",
   "id": "81e5ba51",
   "metadata": {},
   "source": [
    "# Context"
   ]
  },
  {
   "cell_type": "markdown",
   "id": "6e68b031",
   "metadata": {},
   "source": [
    "## 分析合成控制结果\n",
    "\n",
    "**Abstract:**\n",
    "One-sentence description\n",
    "\n",
    "**Description:**\n",
    "In the following cell, I...\n"
   ]
  },
  {
   "cell_type": "code",
   "execution_count": null,
   "id": "166c520d",
   "metadata": {
    "tags": []
   },
   "outputs": [],
   "source": [
    "%load_ext autoreload\n",
    "%autoreload 2\n",
    "%matplotlib inline\n",
    "%config InlineBackend.figure_format = 'retina'\n",
    "from IPython.core.interactiveshell import InteractiveShell\n",
    "\n",
    "InteractiveShell.ast_node_interactivity = \"all\"\n",
    "\n",
    "import pandas as pd\n",
    "from matplotlib import pyplot as plt\n",
    "\n",
    "from src import NATURE_PALETTE as nature_colors\n",
    "from mksci_font import config_font\n",
    "\n",
    "config_font()\n",
    "THESIS = r\"../PhD_Thesis/img/ch5/\""
   ]
  },
  {
   "cell_type": "code",
   "execution_count": null,
   "id": "594dea65",
   "metadata": {
    "tags": []
   },
   "outputs": [],
   "source": [
    "from src.multi_synth import MultiSynth\n",
    "from core.overall_analysis import add_statistic_items\n",
    "import os\n",
    "from hydra import compose, initialize\n",
    "\n",
    "\n",
    "with initialize(version_base=None, config_path=\"../config\"):\n",
    "    os.chdir(\"../\")\n",
    "    cfg = compose(config_name=\"synth\")\n",
    "\n",
    "exp87 = MultiSynth.load_from_pickle(\"model/model_87.pkl\")\n",
    "exp98 = MultiSynth.load_from_pickle(\"model/model_98.pkl\")\n",
    "statistic_87 = add_statistic_items(exp87, cfg)\n",
    "statistic_98 = add_statistic_items(exp98, cfg)"
   ]
  },
  {
   "cell_type": "code",
   "execution_count": null,
   "id": "0189f094",
   "metadata": {
    "tags": []
   },
   "outputs": [],
   "source": [
    "from core.overall_analysis import analysis_exp\n",
    "\n",
    "msg = analysis_exp(exp87)\n",
    "print(msg)"
   ]
  },
  {
   "cell_type": "code",
   "execution_count": null,
   "id": "b63449ab-bd88-4840-b78f-185ca188ad99",
   "metadata": {
    "tags": []
   },
   "outputs": [],
   "source": [
    "msg = analysis_exp(exp98)\n",
    "print(msg)"
   ]
  },
  {
   "cell_type": "code",
   "execution_count": null,
   "id": "9c99a3c0-db12-4e64-9dde-600d50fbd24f",
   "metadata": {
    "tags": []
   },
   "outputs": [],
   "source": [
    "from core.plots import plot_comprehensive_fig1\n",
    "\n",
    "fig1 = plot_comprehensive_fig1(exp87, exp98, cfg, save=\"figs/outputs/main_results2.pdf\")"
   ]
  },
  {
   "cell_type": "code",
   "execution_count": null,
   "id": "7de0becf-d262-4b27-93e7-182a5f3d92c0",
   "metadata": {
    "tags": []
   },
   "outputs": [],
   "source": [
    "from mksci_font import update_font, show\n",
    "\n",
    "mapping = {\n",
    "    \"Observation\": \"观测用水量\",\n",
    "    \"Prediction\": \"模拟用水量\",\n",
    "    \"Drying-up\": \"黄河断流事件\",\n",
    "    \"10yrs-Avg. drought index\": \"10年平均干旱指数\",\n",
    "    \"Drought\": \"干旱指数\",\n",
    "    \"Drought index\": \"干旱指数\",\n",
    "    \"Study period division\": \"研究时段\",\n",
    "    \"87-WAS\": \"“八七”分水方案\",\n",
    "    \"98-UBR\": \"流域统一调度\",\n",
    "    \"Drying-up / days\": \"断流时长/天\",\n",
    "    \"Total water use\": \"流域总用水量\",\n",
    "    \"Before\": \"政策干预前\",\n",
    "    \"After\": \"政策干预后\",\n",
    "    \"IS1: 87-WAS\": \"“八七”分水方案\",\n",
    "    \"IS2: 98-UBR\": \"流域统一调度\",\n",
    "}\n",
    "\n",
    "\n",
    "def update_fonts_and_save(fig, name, mapping):\n",
    "    updated_fig = update_font(fig, mapping)\n",
    "    path = os.path.join(THESIS, name)\n",
    "    updated_fig.savefig(path, dpi=300)\n",
    "    return updated_fig\n",
    "\n",
    "\n",
    "update_fonts_and_save(fig1, \"ch5_results.png\", mapping)"
   ]
  },
  {
   "cell_type": "code",
   "execution_count": null,
   "id": "0270834b-2d77-428f-8ad2-3a7eb13a0b6e",
   "metadata": {
    "tags": []
   },
   "outputs": [],
   "source": [
    "mapping = {\n",
    "    \"Root Mean Square Error (RMSE)\": \"均方根误差 (RMSE)\",\n",
    "    \"Normalized Total water use\": \"标准化后的区域用水量\",\n",
    "    \"Qinghai\": \"青海\",\n",
    "    \"Gansu\": \"甘肃\",\n",
    "    \"Ningxia\": \"宁夏\",\n",
    "    \"Neimeng\": \"内蒙古\",\n",
    "    \"Shanxi\": \"陕西\",\n",
    "    \"Shaanxi\": \"山西\",\n",
    "    \"Henan\": \"河南\",\n",
    "    \"Shandong\": \"山东\",\n",
    "}\n",
    "\n",
    "fig87 = exp87.plot_panels(\"trend\", figsize=(12, 6), save=\"figs/outputs/87placebo.pdf\")\n",
    "update_fonts_and_save(fig87, \"trend_87.png\", mapping)\n",
    "\n",
    "\n",
    "fig98 = exp98.plot_panels(\"trend\", figsize=(12, 6), save=\"figs/outputs/98placebo.pdf\")\n",
    "update_fonts_and_save(fig98, \"trend_98.png\", mapping)"
   ]
  },
  {
   "cell_type": "code",
   "execution_count": null,
   "id": "a75cd305-7fcb-4f83-bdeb-020b5faaae20",
   "metadata": {
    "tags": []
   },
   "outputs": [],
   "source": [
    "fig87_rmse = exp87.plot_panels(save=\"figs/outputs/87rmse.pdf\")\n",
    "update_fonts_and_save(fig87_rmse, \"rmse_87.png\", mapping)\n",
    "\n",
    "fig98_rmse = exp98.plot_panels(save=\"figs/outputs/98rmse.pdf\")\n",
    "update_fonts_and_save(fig98_rmse, \"rmse_98.png\", mapping)"
   ]
  },
  {
   "cell_type": "markdown",
   "id": "3df7efa6-4a18-4c1e-9e9a-1891bc159a54",
   "metadata": {},
   "source": [
    "\n",
    "对DSC的有效性测试有两种方法：\n",
    "- 比较后期和前期的重建；\n",
    "- 通过安慰剂分析测试鲁棒性。\n",
    "\n",
    "\\begin{equation}\n",
    "    \\text{RMSE} = \\sqrt{\\frac{1}{n}\\sum_{i=1}^{n}{(y_i-\\hat{y}_i)}^2} \n",
    "\\end{equation}\n",
    "\n",
    "where $n$ is the number of observations, $y_i$ are the actual values, and $\\hat{y}_i$ are the predicted values."
   ]
  },
  {
   "cell_type": "code",
   "execution_count": null,
   "id": "8d5fc550-ee41-44f0-8d16-6c60f06d952b",
   "metadata": {
    "tags": []
   },
   "outputs": [],
   "source": [
    "exp87.rmse_report()"
   ]
  },
  {
   "cell_type": "code",
   "execution_count": null,
   "id": "21dcc555-d53f-40f9-91c2-97e99721fd8d",
   "metadata": {
    "tags": []
   },
   "outputs": [],
   "source": [
    "exp98.rmse_report()"
   ]
  },
  {
   "cell_type": "markdown",
   "id": "10cbc6c4-3665-4673-a01b-e04c014dc76a",
   "metadata": {},
   "source": [
    "使用合成控制法的安慰剂检验，使用均值+-两倍[标准差](https://www.zhihu.com/question/22864111)对显著性进行判断。"
   ]
  },
  {
   "cell_type": "markdown",
   "id": "6556432f-3939-4218-9e39-64b967b49b6b",
   "metadata": {},
   "source": [
    "## Compare 87-98 regulating\n",
    "\n",
    "**Abstract:**\n",
    "One-sentence description\n",
    "\n",
    "**Description:**\n",
    "In the following cell, I...\n"
   ]
  },
  {
   "cell_type": "code",
   "execution_count": null,
   "id": "5bb2db1a-16fa-4c48-8274-8404896b2eb5",
   "metadata": {
    "tags": []
   },
   "outputs": [],
   "source": [
    "from src.plots import correlation_analysis\n",
    "\n",
    "correlation_analysis(statistic_98, xs=[\"YR_WU\", \"satisfied\"], y=\"diff_ratio\")"
   ]
  },
  {
   "cell_type": "code",
   "execution_count": null,
   "id": "a5ff6b88-58c3-4402-b9ee-b93fe54bd452",
   "metadata": {
    "tags": []
   },
   "outputs": [],
   "source": [
    "from core.overall_analysis import get_compare_df\n",
    "\n",
    "rename = {\n",
    "    \"Qinghai\": \"青海\",\n",
    "    \"Gansu\": \"甘肃\",\n",
    "    \"Ningxia\": \"宁夏\",\n",
    "    \"Neimeng\": \"内蒙古\",\n",
    "    \"Shanxi\": \"陕西\",\n",
    "    \"Shaanxi\": \"山西\",\n",
    "    \"Henan\": \"河南\",\n",
    "    \"Shandong\": \"山东\",\n",
    "}\n",
    "\n",
    "compare_df = get_compare_df(statistic_87, statistic_98)\n",
    "compare_df_ch = compare_df.rename(rename, axis=0)"
   ]
  },
  {
   "cell_type": "code",
   "execution_count": null,
   "id": "34305848-3e90-4342-b448-2874e015d423",
   "metadata": {
    "tags": []
   },
   "outputs": [],
   "source": [
    "from core.plots import comparison_plot\n",
    "\n",
    "mapping = {\n",
    "    \"Root Mean Square Error (RMSE)\": \"均方根误差 (RMSE)\",\n",
    "    \"Normalized Total water use\": \"标准化后的区域用水量\",\n",
    "    \"Major water users\": \"主要用水区域\",\n",
    "    \"Extra WU over the estimation\": \"用水超预期比例\",\n",
    "    \"WU ratio\": \"用水量占比\",\n",
    "    \"87-WAS\": \"“八七”分水\",\n",
    "    \"98-UBR\": \"统一调度\",\n",
    "    \"Quota\": \"分水配额\",\n",
    "    \"WU ratio\": \"用水量占比\",\n",
    "}\n",
    "\n",
    "\n",
    "fig2 = comparison_plot(compare_df, save=\"figs/outputs/fig3.pdf\")\n",
    "fig2_ch = comparison_plot(compare_df_ch)\n",
    "update_fonts_and_save(fig2_ch, \"fig3.png\", mapping)"
   ]
  },
  {
   "cell_type": "code",
   "execution_count": null,
   "id": "b4a11fc3-7292-4e2c-8403-aadce96c454e",
   "metadata": {
    "tags": []
   },
   "outputs": [],
   "source": [
    "compare_df[\"87_ratio\"].iloc[:4].mean()\n",
    "compare_df[\"98_ratio\"]"
   ]
  },
  {
   "cell_type": "code",
   "execution_count": null,
   "id": "d5f84276-7f8a-4293-929f-7abf47bd2335",
   "metadata": {
    "tags": []
   },
   "outputs": [],
   "source": [
    "compare_df[\"98_ratio\"][compare_df[\"98_ratio\"] < 0].mean()"
   ]
  },
  {
   "cell_type": "code",
   "execution_count": null,
   "id": "f977e2c2-74d5-47cd-bd77-a630545dcd16",
   "metadata": {
    "tags": []
   },
   "outputs": [],
   "source": [
    "compare_df.loc[\"Neimeng\", :]"
   ]
  },
  {
   "cell_type": "code",
   "execution_count": null,
   "id": "4327bf68-260a-4890-a071-2160c9ac9348",
   "metadata": {
    "tags": []
   },
   "outputs": [],
   "source": [
    "(\n",
    "    compare_df.loc[\"Neimeng\", \"98_ratio\"] - compare_df.loc[\"Neimeng\", \"87_ratio\"]\n",
    ") / compare_df.loc[\"Neimeng\", \"87_ratio\"]"
   ]
  }
 ],
 "metadata": {
  "kernelspec": {
   "display_name": "Python 3 (ipykernel)",
   "language": "python",
   "name": "python3"
  },
  "language_info": {
   "codemirror_mode": {
    "name": "ipython",
    "version": 3
   },
   "file_extension": ".py",
   "mimetype": "text/x-python",
   "name": "python",
   "nbconvert_exporter": "python",
   "pygments_lexer": "ipython3",
   "version": "3.11.2"
  }
 },
 "nbformat": 4,
 "nbformat_minor": 5
}
