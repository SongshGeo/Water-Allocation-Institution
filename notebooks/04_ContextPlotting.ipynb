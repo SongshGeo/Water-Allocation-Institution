{
 "cells": [
  {
   "cell_type": "markdown",
   "id": "81e5ba51",
   "metadata": {},
   "source": [
    "# Context"
   ]
  },
  {
   "cell_type": "markdown",
   "id": "6e68b031",
   "metadata": {},
   "source": [
    "## Title\n",
    "\n",
    "**Abstract:**\n",
    "One-sentence description\n",
    "\n",
    "**Description:**\n",
    "In the following cell, I...\n"
   ]
  },
  {
   "cell_type": "code",
   "execution_count": null,
   "id": "166c520d",
   "metadata": {
    "tags": []
   },
   "outputs": [],
   "source": [
    "%load_ext autoreload\n",
    "%autoreload 2\n",
    "%matplotlib inline\n",
    "%config InlineBackend.figure_format = 'retina'\n",
    "from IPython.core.interactiveshell import InteractiveShell\n",
    "\n",
    "InteractiveShell.ast_node_interactivity = \"all\"\n",
    "\n",
    "import pandas as pd\n",
    "from matplotlib import pyplot as plt\n",
    "\n",
    "from src import NATURE_PALETTE as nature_colors"
   ]
  },
  {
   "cell_type": "markdown",
   "id": "36abe21a",
   "metadata": {},
   "source": [
    "## Yellow River Breaks\n",
    "\n",
    "**Abstract:**\n",
    "One-sentence description\n",
    "\n",
    "**Description:**\n",
    "In the following cell, I...\n"
   ]
  },
  {
   "cell_type": "code",
   "execution_count": null,
   "id": "f043c255",
   "metadata": {
    "tags": []
   },
   "outputs": [],
   "source": [
    "outage = pd.read_excel(r\"../data/source/river break.xlsx\")\n",
    "\n",
    "PERIODS = {\n",
    "    1978: \"start\",\n",
    "    1987: \"87-WAS\",\n",
    "    1998: \"98-UBR\",\n",
    "    2008: \"end\",\n",
    "}\n",
    "\n",
    "\n",
    "def plot_outage(ax=None):\n",
    "    if not ax:\n",
    "        fig, ax = plt.subplots(figsize=(9, 2))\n",
    "    bubbles = ax.scatter(\n",
    "        x=outage[\"年份\"],\n",
    "        y=outage[\"断流天数\"],\n",
    "        s=outage[\"断流长度\"] * 0.6,\n",
    "        color=\"lightgray\",\n",
    "        edgecolors=nature_colors[\"Nature\"],\n",
    "        linewidth=1.5,\n",
    "        alpha=0.9,\n",
    "        label=\"Drying-up\",\n",
    "        zorder=1,\n",
    "    )\n",
    "    ax.set_xlim(1970, 2010)\n",
    "    ax.set_ylim(-10, 170)\n",
    "    #     ax.axvline(1987, ls=':', color=nature_colors['NS'], lw=3, label='Policy 1', zorder=0)\n",
    "    #     ax.axvline(1998, ls=':', color=nature_colors['NG'], lw=3, label='Policy 2', zorder=0)\n",
    "    #     ax.axvline(1978, ls='-.', color='gray', lw=1, label='Study period division')\n",
    "    #     ax.axvline(2008, ls='-.', color='gray', lw=1)\n",
    "    ax.spines[\"top\"].set_visible(False)\n",
    "    ax.spines[\"left\"].set_visible(False)\n",
    "    ax.spines[\"right\"].set_visible(False)\n",
    "    ax.spines[\"bottom\"].set_visible(True)\n",
    "\n",
    "    # ax.axvspan(1975, 1987, alpha=0.1, label='Structure 1')\n",
    "    # ax.axvspan(1987, 1998, alpha=0.1, color='red', label='Mismatched institution')\n",
    "    # ax.axvspan(1998, 2008, alpha=0.1, color='green', label='Structure 3')\n",
    "\n",
    "    ax.set_xlabel(\"Year\")\n",
    "    ax.set_ylabel(\"Drying-up / days\")\n",
    "    return bubbles\n",
    "\n",
    "\n",
    "fig, ax = plt.subplots()\n",
    "scatter = plot_outage(ax=ax)\n",
    "handles, labels = scatter.legend_elements(prop=\"sizes\", alpha=0.9)\n",
    "legend2 = ax.legend(handles, labels, loc=\"upper right\", title=\"Sizes\")\n",
    "plt.show();"
   ]
  },
  {
   "cell_type": "markdown",
   "id": "28d6f802",
   "metadata": {},
   "source": [
    "## Drought\n",
    "\n",
    "**Abstract:**\n",
    "One-sentence description\n",
    "\n",
    "**Description:**\n",
    "In the following cell, I...\n"
   ]
  },
  {
   "cell_type": "code",
   "execution_count": null,
   "id": "a6030e06",
   "metadata": {
    "tags": []
   },
   "outputs": [],
   "source": [
    "drought = pd.read_excel(r\"../data/source/干旱严重程度.xlsx\", index_col=0)\n",
    "drought.columns = [f\"m{i}\" for i in (1, 3, 6, 12)]\n",
    "col = \"m1\"\n",
    "\n",
    "\n",
    "def plot_drought(col, ax=None):\n",
    "    if not ax:\n",
    "        fig, ax = plt.subplots(figsize=(9, 2))\n",
    "    mean_10 = drought.rolling(window=10, min_periods=10, center=True).mean()[col]\n",
    "    # drought[col].plot.bar(ax=ax)\n",
    "    ax.bar(\n",
    "        x=drought[col].index,\n",
    "        height=drought[col].values,\n",
    "        color=\"#e0a418\",\n",
    "        alpha=0.8,\n",
    "        label=\"Drought\",\n",
    "        zorder=0,\n",
    "    )\n",
    "    ax.plot(\n",
    "        mean_10.index,\n",
    "        mean_10.values,\n",
    "        ls=\"-.\",\n",
    "        lw=2,\n",
    "        color=nature_colors[\"NS\"],\n",
    "        label=\"10yrs-Avg. drought index\",\n",
    "    )\n",
    "    ax.set_xlim(1970, 2010)\n",
    "    ax.axhline()\n",
    "    ax.spines[\"top\"].set_visible(False)\n",
    "    ax.spines[\"left\"].set_visible(False)\n",
    "    ax.spines[\"right\"].set_visible(False)\n",
    "    ax.spines[\"bottom\"].set_visible(True)\n",
    "\n",
    "\n",
    "plot_drought(col)\n",
    "plt.show();"
   ]
  },
  {
   "cell_type": "code",
   "execution_count": null,
   "id": "bd2f68b6",
   "metadata": {
    "tags": []
   },
   "outputs": [],
   "source": [
    "import scipy\n",
    "\n",
    "droughts_p1 = drought[\"m1\"].loc[1988:1998]\n",
    "droughts_p2 = drought[\"m1\"].loc[1998:2008]\n",
    "t, pval = scipy.stats.ttest_ind(droughts_p1, droughts_p2)\n",
    "\n",
    "print(\"Differences between Droughts 1988~1998; 1998~2008:\\n\")\n",
    "droughts_p1.mean()\n",
    "droughts_p2.mean()\n",
    "t\n",
    "pval"
   ]
  },
  {
   "cell_type": "code",
   "execution_count": null,
   "id": "594dea65",
   "metadata": {
    "tags": []
   },
   "outputs": [],
   "source": [
    "from src.multi_synth import MultiSynth\n",
    "\n",
    "exp87 = MultiSynth.load_from_pickle(\"../model/model_87.pkl\")\n",
    "k_87 = exp87.plot_pre_post()\n",
    "\n",
    "exp98 = MultiSynth.load_from_pickle(\"../model/model_98.pkl\")\n",
    "k_98 = exp98.plot_pre_post()\n",
    "\n",
    "print(\"1998-UBR 之后的速度: \")\n",
    "print(k_98)\n",
    "plt.show();"
   ]
  },
  {
   "cell_type": "code",
   "execution_count": null,
   "id": "0189f094",
   "metadata": {
    "tags": []
   },
   "outputs": [],
   "source": [
    "data = exp87.agg_results(\"sum\").loc[exp87.treated_time :, :]\n",
    "observation = data[\"Origin\"].sum()\n",
    "estimation = data[\"Synth\"].sum()\n",
    "ratio = 100 * (observation - estimation) / estimation\n",
    "print(\n",
    "    f\"From {exp87.treated_time} to {exp87.end}, the observed water use of the YRB provinces reached ${observation:.2f} km^3$ in sum while the estimation of water use only suggest ${estimation:.2f} km^3$, ${ratio:.2f}\\%$ increased.\"\n",
    ")"
   ]
  },
  {
   "cell_type": "markdown",
   "id": "3c1dc816",
   "metadata": {},
   "source": [
    "## Summary Plot\n",
    "\n",
    "**Abstract:**\n",
    "One-sentence description\n",
    "\n",
    "**Description:**\n",
    "In the following cell, I...\n"
   ]
  },
  {
   "cell_type": "code",
   "execution_count": null,
   "id": "06f3b8ef",
   "metadata": {
    "tags": []
   },
   "outputs": [],
   "source": [
    "fig = plt.figure(figsize=(9, 5), constrained_layout=True)\n",
    "\n",
    "# prepare plotting\n",
    "gs = fig.add_gridspec(\n",
    "    ncols=3, nrows=2, hspace=0.0, height_ratios=[1.2, 1], width_ratios=[7, 10, 10]\n",
    ")\n",
    "\n",
    "ax1 = fig.add_subplot(gs[0, 1])\n",
    "ax2 = fig.add_subplot(gs[0, 2])\n",
    "ax4 = fig.add_subplot(gs[1, :])\n",
    "ax3 = ax4.twinx()\n",
    "\n",
    "# plots\n",
    "exp87.plot_pre_post(ax=ax1, axvline=False)\n",
    "exp98.plot_pre_post(ax=ax2, axvline=False)\n",
    "bubbles = plot_outage(ax=ax3)\n",
    "plot_drought(\"m1\", ax4)\n",
    "ax1.legend_.remove()\n",
    "ax2.legend_.remove()\n",
    "# beauty & annotation\n",
    "\n",
    "ax1.axvline(1987, ls=\"--\", color=nature_colors[\"NS\"], lw=3, zorder=0)\n",
    "ax2.axvline(1998, ls=\"--\", color=nature_colors[\"NG\"], lw=3, zorder=0)\n",
    "\n",
    "ax4.set_ylabel(\"Drought index\")\n",
    "ax3.annotate(\n",
    "    \"\",\n",
    "    xy=(1978, ax3.get_ylim()[1]),\n",
    "    xycoords=\"data\",\n",
    "    xytext=(1998, ax3.get_ylim()[1]),\n",
    "    textcoords=\"data\",\n",
    "    arrowprops=dict(\n",
    "        arrowstyle=\"<->\",\n",
    "        connectionstyle=\"arc3\",\n",
    "        color=nature_colors[\"NS\"],\n",
    "    ),\n",
    ")\n",
    "ax3.annotate(\n",
    "    \"\",\n",
    "    xy=(1987, 150),\n",
    "    xycoords=\"data\",\n",
    "    xytext=(2008, 150),\n",
    "    textcoords=\"data\",\n",
    "    arrowprops=dict(\n",
    "        arrowstyle=\"<->\",\n",
    "        connectionstyle=\"arc3\",\n",
    "        color=nature_colors[\"NG\"],\n",
    "    ),\n",
    ")\n",
    "\n",
    "ax4.axvline(1987, ls=\"--\", color=nature_colors[\"NS\"], lw=3, label=\"87-WAS\", zorder=0)\n",
    "ax4.axvline(1998, ls=\"--\", color=nature_colors[\"NG\"], lw=3, label=\"98-UBR\", zorder=0)\n",
    "ax4.axvline(1978, ls=\"-.\", color=\"gray\", lw=1, label=\"Study period division\")\n",
    "# ax3.text(\"\")\n",
    "legend_handles = []\n",
    "legend_labels = []\n",
    "for handle, label in zip(*ax2.get_legend_handles_labels()):\n",
    "    legend_handles.append(handle)\n",
    "    legend_labels.append(label)\n",
    "for handle, label in zip(*ax3.get_legend_handles_labels()):\n",
    "    legend_handles.append(handle)\n",
    "    legend_labels.append(label)\n",
    "for handle, label in zip(*ax4.get_legend_handles_labels()):\n",
    "    legend_handles.append(handle)\n",
    "    legend_labels.append(label)\n",
    "\n",
    "ax3.text(\n",
    "    1986.5,\n",
    "    155,\n",
    "    \"IS1: 87-WAS\",\n",
    "    color=nature_colors[\"NS\"],\n",
    "    horizontalalignment=\"right\",\n",
    "    weight=\"bold\",\n",
    ")\n",
    "ax3.text(\n",
    "    1998.5,\n",
    "    155,\n",
    "    \"IS2: 98-UBR\",\n",
    "    color=nature_colors[\"NG\"],\n",
    "    horizontalalignment=\"left\",\n",
    "    weight=\"bold\",\n",
    ")\n",
    "\n",
    "\n",
    "# 使用图片的比例来定位\n",
    "def get_position_by_ratio(ax, x_ratio, y_ratio):\n",
    "    \"\"\"\n",
    "    使用图片的比例来返回定位，从而更好的控制说明文字的位置\n",
    "    ax: 一个 matplotlib 的画图轴对象\n",
    "    x_ratio: 横坐标的比例位置\n",
    "    y_ratio: 纵坐标的比例位置\n",
    "    \"\"\"\n",
    "    x_min, x_max = ax.get_xlim()\n",
    "    y_min, y_max = ax.get_ylim()\n",
    "    x = (x_max - x_min) * x_ratio + x_min\n",
    "    y = (y_max - y_min) * y_ratio + y_min\n",
    "    return x, y\n",
    "\n",
    "\n",
    "for ax in [ax1, ax2]:\n",
    "    ax.set_yticks(range(70, 111, 10))\n",
    "\n",
    "for i, ax in enumerate([ax1, ax2, ax3]):\n",
    "    ax.grid(True, color=\"lightgray\", ls=\":\")\n",
    "    ax.tick_params(direction=\"in\")\n",
    "    x, y = get_position_by_ratio(ax, 0.05, 0.95)\n",
    "    ax.text(x, y, (\"A\", \"B\", \"C\")[i], weight=\"bold\", fontsize=12)\n",
    "\n",
    "legend = fig.legend(\n",
    "    loc=\"upper left\",\n",
    "    handles=legend_handles,\n",
    "    labels=legend_labels,\n",
    "    handletextpad=1.5,\n",
    "    handleheight=1.5,\n",
    "    markerscale=0.7,\n",
    ")\n",
    "plt.savefig(\"../figs/outputs/main_results2.pdf\", format=\"pdf\")\n",
    "plt.show();"
   ]
  },
  {
   "cell_type": "code",
   "execution_count": null,
   "id": "c2e966d8",
   "metadata": {
    "tags": []
   },
   "outputs": [],
   "source": [
    "fig = exp87.panel_plots()\n",
    "# plt.savefig(\"figs/outputs/87panel.pdf\", format='pdf')"
   ]
  },
  {
   "cell_type": "code",
   "execution_count": null,
   "id": "c8eb1e8f",
   "metadata": {
    "tags": []
   },
   "outputs": [],
   "source": [
    "fig = exp87.panel_plots(\"in-space placebo\", in_space_exclusion_multiple=3)\n",
    "# plt.savefig(\"figs/outputs/87placebo.pdf\", format='pdf')"
   ]
  },
  {
   "cell_type": "code",
   "execution_count": null,
   "id": "99603223",
   "metadata": {
    "tags": []
   },
   "outputs": [],
   "source": [
    "fig = exp98.panel_plots()\n",
    "# plt.savefig(\"figs/outputs/98panel.pdf\", format='pdf')"
   ]
  },
  {
   "cell_type": "code",
   "execution_count": null,
   "id": "5c6a8d3f",
   "metadata": {
    "tags": []
   },
   "outputs": [],
   "source": [
    "fig = exp98.panel_plots(\"in-space placebo\", in_space_exclusion_multiple=3)\n",
    "# plt.savefig(\"figs/outputs/98placebo.pdf\", format='pdf')"
   ]
  },
  {
   "cell_type": "code",
   "execution_count": null,
   "id": "67bbc2d5",
   "metadata": {
    "tags": []
   },
   "outputs": [],
   "source": [
    "fig = exp87.panel_plots(\"rmspe ratio\")"
   ]
  },
  {
   "cell_type": "code",
   "execution_count": null,
   "id": "28281114",
   "metadata": {
    "tags": []
   },
   "outputs": [],
   "source": [
    "fig = exp98.panel_plots(\"rmspe ratio\")"
   ]
  },
  {
   "cell_type": "code",
   "execution_count": null,
   "id": "d446a9a4",
   "metadata": {
    "tags": []
   },
   "outputs": [],
   "source": [
    "def rmse_report(exp, caption):\n",
    "    result = {}\n",
    "    for unit in exp.units:\n",
    "        sc = exp.units.get(unit).model\n",
    "        data = sc.original_data\n",
    "        df = data.rmspe_df\n",
    "        result[unit] = df[df[\"unit\"] == unit].drop(\"unit\", axis=1).iloc[0, :]\n",
    "    median = df[df[\"unit\"] != unit][\"post/pre\"].median()\n",
    "    result = pd.DataFrame(result)\n",
    "    result = result.T\n",
    "    result[\"Significant\"] = result[\"post/pre\"] > median\n",
    "    result.columns = pd.MultiIndex.from_tuples([(f\"{caption}\", col) for col in result])\n",
    "    return result\n",
    "\n",
    "\n",
    "rmspe_87 = rmse_report(exp87, \"1987-WAS\")\n",
    "rmspe_98 = rmse_report(exp98, \"1998-UBR\")\n",
    "\n",
    "concated = pd.concat([rmspe_87, rmspe_98], axis=1)\n",
    "concated.style.format(\"{:.3f}\")\n",
    "concated.style.format({(\"1987-WAS\", \"Significant\"): bool})\n",
    "concated.style.format({(\"1998-UBR\", \"Significant\"): bool})\n",
    "concated.to_csv(\"compare_RMSE.csv\")"
   ]
  },
  {
   "cell_type": "markdown",
   "id": "6556432f-3939-4218-9e39-64b967b49b6b",
   "metadata": {},
   "source": [
    "## Compare 87-98 regulating\n",
    "\n",
    "**Abstract:**\n",
    "One-sentence description\n",
    "\n",
    "**Description:**\n",
    "In the following cell, I...\n"
   ]
  },
  {
   "cell_type": "code",
   "execution_count": null,
   "id": "d1846f1a-1654-44f2-9406-e597772b00ad",
   "metadata": {
    "tags": []
   },
   "outputs": [],
   "source": [
    "def add_statistic_items(exp):\n",
    "    def extract_mean_std(data, start, end):\n",
    "        data = data.loc[start:end, :]\n",
    "        return data.mean(), data.std()\n",
    "\n",
    "    statistic = exp.get_statistic_df()\n",
    "    start, end = exp.treated_time, exp.end\n",
    "    statistic[\"Total_WU\"] = extract_mean_std(wu_total, start, end)[0]\n",
    "    statistic[\"YR_WU\"] = extract_mean_std(wu_yr, start, end)[0]\n",
    "    statistic[\"ratio\"] = extract_mean_std(ratio, start, end)[0]\n",
    "\n",
    "    statistic[\"scheme83\"] = quota.loc[1983, :]\n",
    "    statistic[\"scheme87\"] = quota.loc[1987, :]\n",
    "    statistic[\"plan\"] = plan.loc[\"Sum\", :]\n",
    "    statistic[\"satisfied\"] = statistic[\"scheme87\"] / statistic[\"plan\"]\n",
    "    statistic[\"unsatisfied\"] = 1 - statistic[\"satisfied\"]\n",
    "    statistic[\"stress\"] = statistic[\"unsatisfied\"] * statistic[\"YR_WU\"]\n",
    "\n",
    "    statistic[\"diff_ratio\"] = statistic[\"diff_sum\"] / abs(statistic[\"diff_sum\"].sum())\n",
    "    statistic[\"punished\"] = statistic[\"scheme83\"] - statistic[\"scheme87\"]\n",
    "\n",
    "    statistic = statistic.sort_values(\"stress\", ascending=False)\n",
    "    return statistic\n",
    "\n",
    "\n",
    "wu_yr_path = \"../data/processed/wu_yr.csv\"\n",
    "wu_all_path = \"../data/processed/wu_all.csv\"\n",
    "ratio_path = \"../data/processed/ratio.csv\"\n",
    "plan_path = \"../data/processed/plan.csv\"\n",
    "quota_path = \"../data/processed/quota.csv\"\n",
    "\n",
    "wu_yr = pd.read_csv(wu_yr_path, index_col=0)\n",
    "wu_total = pd.read_csv(wu_all_path, index_col=0)\n",
    "ratio = pd.read_csv(ratio_path, index_col=0)\n",
    "plan = pd.read_csv(plan_path, index_col=0)\n",
    "quota = pd.read_csv(quota_path, index_col=0)\n",
    "\n",
    "statistic_87 = add_statistic_items(exp87)\n",
    "statistic_98 = add_statistic_items(exp98)"
   ]
  },
  {
   "cell_type": "code",
   "execution_count": null,
   "id": "48c369d7-de39-410f-bec2-2ebe111f94e7",
   "metadata": {
    "tags": []
   },
   "outputs": [],
   "source": [
    "test = statistic_87[\"YR_WU\"] + statistic_98[\"YR_WU\"]\n",
    "test / test.sum()\n",
    "base = statistic_87[\"scheme87\"] / statistic_87[\"scheme87\"].sum()"
   ]
  },
  {
   "cell_type": "code",
   "execution_count": null,
   "id": "7ff16084-8ed8-45ff-ac12-64df6bba6c56",
   "metadata": {
    "tags": []
   },
   "outputs": [],
   "source": [
    "statistic_98"
   ]
  },
  {
   "cell_type": "code",
   "execution_count": null,
   "id": "5bb2db1a-16fa-4c48-8274-8404896b2eb5",
   "metadata": {
    "tags": []
   },
   "outputs": [],
   "source": [
    "from src.plots import correlation_analysis\n",
    "\n",
    "correlation_analysis(statistic_98, xs=[\"YR_WU\", \"satisfied\"], y=\"diff_ratio\")"
   ]
  },
  {
   "cell_type": "code",
   "execution_count": null,
   "id": "34305848-3e90-4342-b448-2874e015d423",
   "metadata": {
    "tags": []
   },
   "outputs": [],
   "source": [
    "compare_df = pd.DataFrame()\n",
    "compare_df[\"87_ratio\"] = statistic_87[\"diff_ratio\"]\n",
    "compare_df[\"98_ratio\"] = statistic_98[\"diff_ratio\"]\n",
    "compare_df[\"wu_ratio_87\"] = statistic_87[\"YR_WU\"] / statistic_87[\"YR_WU\"].sum()\n",
    "compare_df[\"wu_ratio_98\"] = statistic_98[\"YR_WU\"] / statistic_98[\"YR_WU\"].sum()\n",
    "compare_df[\"YR_WU\"] = (compare_df[\"wu_ratio_87\"] + compare_df[\"wu_ratio_98\"]) / 2\n",
    "compare_df = compare_df.sort_values(\"YR_WU\", ascending=False)"
   ]
  },
  {
   "cell_type": "code",
   "execution_count": null,
   "id": "290738d9-517f-4189-9239-ddbec4b9f4cb",
   "metadata": {
    "tags": []
   },
   "outputs": [],
   "source": [
    "from matplotlib import ticker\n",
    "import numpy as np\n",
    "\n",
    "plt.rcParams[\"xtick.direction\"] = \"in\"\n",
    "plt.rcParams[\"ytick.direction\"] = \"in\"\n",
    "fig, ax1 = plt.subplots(figsize=(7, 4))\n",
    "\n",
    "width = 0.36\n",
    "x = np.arange(8)\n",
    "index = compare_df.index\n",
    "ax2 = ax1.twinx()\n",
    "\n",
    "ax2.bar(\n",
    "    x - width / 2,\n",
    "    width=width,\n",
    "    height=compare_df[\"wu_ratio_87\"],\n",
    "    color=\"lightgray\",\n",
    "    alpha=0.4,\n",
    "    edgecolor=\"white\",\n",
    "    hatch=\"xxx\",\n",
    "    label=\"WU ratio\",\n",
    "    zorder=0,\n",
    ")\n",
    "ax2.bar(\n",
    "    x + width / 2,\n",
    "    width=width,\n",
    "    height=compare_df[\"wu_ratio_98\"],\n",
    "    color=\"lightgray\",\n",
    "    alpha=0.4,\n",
    "    edgecolor=\"white\",\n",
    "    hatch=\"xxx\",\n",
    "    zorder=0,\n",
    ")\n",
    "ax2.scatter(\n",
    "    range(8),\n",
    "    base[compare_df.index],\n",
    "    marker=\"^\",\n",
    "    color=\"red\",\n",
    "    edgecolor=\"white\",\n",
    "    s=80,\n",
    "    label=\"Quota\",\n",
    ")\n",
    "\n",
    "ax1.bar(\n",
    "    x - width / 2,\n",
    "    width=width,\n",
    "    height=compare_df[\"87_ratio\"],\n",
    "    color=\"#C83C1C\",\n",
    "    alpha=0.8,\n",
    "    zorder=1,\n",
    "    label=\"87-WAS\",\n",
    "    edgecolor=\"white\",\n",
    ")\n",
    "ax1.bar(\n",
    "    x + width / 2,\n",
    "    width=width,\n",
    "    height=compare_df[\"98_ratio\"],\n",
    "    color=\"#006C43\",\n",
    "    alpha=0.8,\n",
    "    zorder=1,\n",
    "    label=\"98-UBR\",\n",
    "    edgecolor=\"white\",\n",
    ")\n",
    "\n",
    "\n",
    "# 坐标轴距离\n",
    "ax1.set_yticks(np.arange(-0.5, 0.51, 0.25))\n",
    "ax1.set_ylim(-0.5, 0.5)\n",
    "ax1.set_xlim(-0.8, 7.8)\n",
    "ax2.set_yticks(np.arange(-0.4, 0.41, 0.1))\n",
    "ax2.set_ylim(-0.4, 0.4)\n",
    "ax2.set_yticklabels([\"\", \"\", \"\", \"\", \"0%\", \"10%\", \"20%\", \"30%\", \"40%\"])\n",
    "\n",
    "for ax in [ax1, ax2]:\n",
    "    ax.spines[\"top\"].set_visible(False)\n",
    "    ax.spines[\"left\"].set_visible(True)\n",
    "    ax.spines[\"right\"].set_visible(True)\n",
    "    ax.spines[\"bottom\"].set_visible(False)\n",
    "\n",
    "xticklabels = index.to_list()\n",
    "xticklabels.insert(0, \"\")\n",
    "ax1.set_xticklabels(xticklabels)\n",
    "claen_labels = []\n",
    "for label in ax1.get_xticklabels():\n",
    "    text = label.get_text()\n",
    "    if text == \"Neimeng\":\n",
    "        text = \"Inner\\nMongolia\"\n",
    "    elif text == \"Shanxi\":\n",
    "        text = \"Shaanxi\"\n",
    "    elif text == \"Shaanxi\":\n",
    "        text = \"Shanxi\"\n",
    "    claen_labels.append(text)\n",
    "ax1.set_xticklabels(claen_labels)\n",
    "ax1.set_ylabel(\"Extra WU over the estimation\")\n",
    "ax2.set_ylabel(\"WU ratio\")\n",
    "#### 辅助线 ========\n",
    "ax1.axhline(0, ls=\"--\", color=\"gray\", lw=1, zorder=0)\n",
    "ax1.annotate(\n",
    "    \"\",\n",
    "    xy=(0 - width, -0.4),\n",
    "    xycoords=\"data\",\n",
    "    xytext=(3 + width, -0.4),\n",
    "    textcoords=\"data\",\n",
    "    arrowprops=dict(arrowstyle=\"<->\", connectionstyle=\"arc3\", color=\"black\", lw=1.5),\n",
    ")\n",
    "ax1.text(\n",
    "    1.5,\n",
    "    -0.42,\n",
    "    \"Major water users\",\n",
    "    color=\"black\",\n",
    "    horizontalalignment=\"center\",\n",
    "    verticalalignment=\"top\",\n",
    ")\n",
    "ax1.yaxis.set_major_formatter(ticker.PercentFormatter(xmax=1, decimals=0))\n",
    "\n",
    "# -=====  图例\n",
    "\n",
    "legend_handles = []\n",
    "legend_labels = []\n",
    "for handle, label in zip(*ax1.get_legend_handles_labels()):\n",
    "    legend_handles.append(handle)\n",
    "    legend_labels.append(label)\n",
    "\n",
    "for handle, label in zip(*ax2.get_legend_handles_labels()):\n",
    "    legend_handles.append(handle)\n",
    "    legend_labels.append(label)\n",
    "\n",
    "fig.legend(\n",
    "    loc=(0.7, 0.73),\n",
    "    frameon=False,\n",
    "    handles=legend_handles,\n",
    "    labels=legend_labels,\n",
    "    handletextpad=1.5,\n",
    ")\n",
    "plt.savefig(\"../figs/outputs/fig3.pdf\", format=\"pdf\")\n",
    "plt.savefig(\"../figs/outputs/fig3.jpg\", format=\"jpg\", dpi=300)\n",
    "plt.show();"
   ]
  },
  {
   "cell_type": "code",
   "execution_count": null,
   "id": "b4a11fc3-7292-4e2c-8403-aadce96c454e",
   "metadata": {
    "tags": []
   },
   "outputs": [],
   "source": [
    "compare_df[\"87_ratio\"].iloc[:4].mean()\n",
    "compare_df[\"98_ratio\"]"
   ]
  },
  {
   "cell_type": "code",
   "execution_count": null,
   "id": "d5f84276-7f8a-4293-929f-7abf47bd2335",
   "metadata": {
    "tags": []
   },
   "outputs": [],
   "source": [
    "compare_df[\"98_ratio\"][compare_df[\"98_ratio\"] < 0].mean()"
   ]
  },
  {
   "cell_type": "code",
   "execution_count": null,
   "id": "f977e2c2-74d5-47cd-bd77-a630545dcd16",
   "metadata": {
    "tags": []
   },
   "outputs": [],
   "source": [
    "compare_df.loc[\"Neimeng\", :]"
   ]
  },
  {
   "cell_type": "code",
   "execution_count": null,
   "id": "4327bf68-260a-4890-a071-2160c9ac9348",
   "metadata": {
    "tags": []
   },
   "outputs": [],
   "source": [
    "(\n",
    "    compare_df.loc[\"Neimeng\", \"98_ratio\"] - compare_df.loc[\"Neimeng\", \"87_ratio\"]\n",
    ") / compare_df.loc[\"Neimeng\", \"87_ratio\"]"
   ]
  }
 ],
 "metadata": {
  "kernelspec": {
   "display_name": "Python 3 (ipykernel)",
   "language": "python",
   "name": "python3"
  },
  "language_info": {
   "codemirror_mode": {
    "name": "ipython",
    "version": 3
   },
   "file_extension": ".py",
   "mimetype": "text/x-python",
   "name": "python",
   "nbconvert_exporter": "python",
   "pygments_lexer": "ipython3",
   "version": "3.11.2"
  }
 },
 "nbformat": 4,
 "nbformat_minor": 5
}
