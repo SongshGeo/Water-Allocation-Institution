{
 "cells": [
  {
   "cell_type": "markdown",
   "id": "81e5ba51",
   "metadata": {},
   "source": [
    "# Context"
   ]
  },
  {
   "cell_type": "markdown",
   "id": "6e68b031",
   "metadata": {},
   "source": [
    "## 分析合成控制结果\n",
    "\n",
    "**Abstract:**\n",
    "One-sentence description\n",
    "\n",
    "**Description:**\n",
    "In the following cell, I...\n"
   ]
  },
  {
   "cell_type": "code",
   "execution_count": null,
   "id": "166c520d",
   "metadata": {
    "tags": []
   },
   "outputs": [],
   "source": [
    "%load_ext autoreload\n",
    "%autoreload 2\n",
    "%matplotlib inline\n",
    "%config InlineBackend.figure_format = 'retina'\n",
    "from IPython.core.interactiveshell import InteractiveShell\n",
    "\n",
    "InteractiveShell.ast_node_interactivity = \"all\"\n",
    "\n",
    "import pandas as pd\n",
    "from matplotlib import pyplot as plt\n",
    "\n",
    "from src import NATURE_PALETTE as nature_colors"
   ]
  },
  {
   "cell_type": "code",
   "execution_count": null,
   "id": "594dea65",
   "metadata": {
    "tags": []
   },
   "outputs": [],
   "source": [
    "from src.multi_synth import MultiSynth\n",
    "from core.overall_analysis import add_statistic_items\n",
    "import os\n",
    "from hydra import compose, initialize\n",
    "\n",
    "\n",
    "with initialize(version_base=None, config_path=\"../config\"):\n",
    "    os.chdir(\"../\")\n",
    "    cfg = compose(config_name=\"synth\")\n",
    "\n",
    "exp87 = MultiSynth.load_from_pickle(\"model/model_87.pkl\")\n",
    "exp98 = MultiSynth.load_from_pickle(\"model/model_98.pkl\")\n",
    "statistic_87 = add_statistic_items(exp87, cfg)\n",
    "statistic_98 = add_statistic_items(exp98, cfg)"
   ]
  },
  {
   "cell_type": "code",
   "execution_count": null,
   "id": "0189f094",
   "metadata": {
    "tags": []
   },
   "outputs": [],
   "source": [
    "from core.overall_analysis import analysis_exp\n",
    "\n",
    "msg = analysis_exp(exp87)\n",
    "print(msg)"
   ]
  },
  {
   "cell_type": "code",
   "execution_count": null,
   "id": "b63449ab-bd88-4840-b78f-185ca188ad99",
   "metadata": {
    "tags": []
   },
   "outputs": [],
   "source": [
    "msg = analysis_exp(exp98)\n",
    "print(msg)"
   ]
  },
  {
   "cell_type": "code",
   "execution_count": null,
   "id": "9c99a3c0-db12-4e64-9dde-600d50fbd24f",
   "metadata": {
    "tags": []
   },
   "outputs": [],
   "source": [
    "from core.plots import plot_comprehensive_fig1\n",
    "\n",
    "plot_comprehensive_fig1(exp87, exp98, cfg, save=\"figs/outputs/main_results2.pdf\")"
   ]
  },
  {
   "cell_type": "code",
   "execution_count": null,
   "id": "0270834b-2d77-428f-8ad2-3a7eb13a0b6e",
   "metadata": {
    "tags": []
   },
   "outputs": [],
   "source": [
    "exp87.plot_panels(\"trend\", figsize=(12, 6), save=\"figs/outputs/87placebo.pdf\")\n",
    "exp98.plot_panels(\"trend\", figsize=(12, 6), save=\"figs/outputs/98placebo.pdf\")"
   ]
  },
  {
   "cell_type": "code",
   "execution_count": null,
   "id": "a75cd305-7fcb-4f83-bdeb-020b5faaae20",
   "metadata": {},
   "outputs": [],
   "source": [
    "exp87.plot_panels(save=\"figs/outputs/87rmse.pdf\")\n",
    "exp98.plot_panels(save=\"figs/outputs/98rmse.pdf\")"
   ]
  },
  {
   "cell_type": "code",
   "execution_count": null,
   "id": "8d5fc550-ee41-44f0-8d16-6c60f06d952b",
   "metadata": {},
   "outputs": [],
   "source": [
    "exp87.rmse_report()"
   ]
  },
  {
   "cell_type": "markdown",
   "id": "10cbc6c4-3665-4673-a01b-e04c014dc76a",
   "metadata": {},
   "source": [
    "使用合成控制法的安慰剂检验，使用均值+-两倍[标准差](https://www.zhihu.com/question/22864111)对显著性进行判断。"
   ]
  },
  {
   "cell_type": "markdown",
   "id": "6556432f-3939-4218-9e39-64b967b49b6b",
   "metadata": {},
   "source": [
    "## Compare 87-98 regulating\n",
    "\n",
    "**Abstract:**\n",
    "One-sentence description\n",
    "\n",
    "**Description:**\n",
    "In the following cell, I...\n"
   ]
  },
  {
   "cell_type": "code",
   "execution_count": null,
   "id": "5bb2db1a-16fa-4c48-8274-8404896b2eb5",
   "metadata": {
    "tags": []
   },
   "outputs": [],
   "source": [
    "from src.plots import correlation_analysis\n",
    "\n",
    "correlation_analysis(statistic_98, xs=[\"YR_WU\", \"satisfied\"], y=\"diff_ratio\")"
   ]
  },
  {
   "cell_type": "code",
   "execution_count": null,
   "id": "34305848-3e90-4342-b448-2874e015d423",
   "metadata": {
    "tags": []
   },
   "outputs": [],
   "source": [
    "from core.overall_analysis import get_compare_df\n",
    "from core.plots import comparison_plot\n",
    "\n",
    "compare_df = get_compare_df(statistic_87, statistic_98)\n",
    "comparison_plot(compare_df, save=\"figs/outputs/fig3.pdf\")"
   ]
  },
  {
   "cell_type": "code",
   "execution_count": null,
   "id": "b4a11fc3-7292-4e2c-8403-aadce96c454e",
   "metadata": {
    "tags": []
   },
   "outputs": [],
   "source": [
    "compare_df[\"87_ratio\"].iloc[:4].mean()\n",
    "compare_df[\"98_ratio\"]"
   ]
  },
  {
   "cell_type": "code",
   "execution_count": null,
   "id": "d5f84276-7f8a-4293-929f-7abf47bd2335",
   "metadata": {
    "tags": []
   },
   "outputs": [],
   "source": [
    "compare_df[\"98_ratio\"][compare_df[\"98_ratio\"] < 0].mean()"
   ]
  },
  {
   "cell_type": "code",
   "execution_count": null,
   "id": "f977e2c2-74d5-47cd-bd77-a630545dcd16",
   "metadata": {
    "tags": []
   },
   "outputs": [],
   "source": [
    "compare_df.loc[\"Neimeng\", :]"
   ]
  },
  {
   "cell_type": "code",
   "execution_count": null,
   "id": "4327bf68-260a-4890-a071-2160c9ac9348",
   "metadata": {
    "tags": []
   },
   "outputs": [],
   "source": [
    "(\n",
    "    compare_df.loc[\"Neimeng\", \"98_ratio\"] - compare_df.loc[\"Neimeng\", \"87_ratio\"]\n",
    ") / compare_df.loc[\"Neimeng\", \"87_ratio\"]"
   ]
  }
 ],
 "metadata": {
  "kernelspec": {
   "display_name": "Python 3 (ipykernel)",
   "language": "python",
   "name": "python3"
  },
  "language_info": {
   "codemirror_mode": {
    "name": "ipython",
    "version": 3
   },
   "file_extension": ".py",
   "mimetype": "text/x-python",
   "name": "python",
   "nbconvert_exporter": "python",
   "pygments_lexer": "ipython3",
   "version": "3.11.2"
  }
 },
 "nbformat": 4,
 "nbformat_minor": 5
}
