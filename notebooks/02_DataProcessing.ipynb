{
 "cells": [
  {
   "cell_type": "markdown",
   "id": "08d59870",
   "metadata": {},
   "source": [
    "# Original Data Processing"
   ]
  },
  {
   "cell_type": "markdown",
   "id": "38f2da06",
   "metadata": {},
   "source": [
    "**Abstract:**\n",
    "Processing datasets for correlation analysis.\n",
    "\n",
    "**Description:**\n",
    "In the following cell, two different dimensions of dataset processed:\n",
    "1. Water Use (**section 1**):\n",
    "    1. Total Water Use\n",
    "    2. YR Water Use\n",
    "    3. YR Water Ratio\n",
    "2. Institution restricts (**section 2**):\n",
    "    1. Planning\n",
    "    2. Quota\n",
    "    3. Satisfied Ratio\n",
    "\n",
    "Finally, for the two dimensions, design a function for flexible time period extraction (**section 3**)."
   ]
  },
  {
   "cell_type": "code",
   "execution_count": null,
   "id": "ad5893c2",
   "metadata": {},
   "outputs": [],
   "source": [
    "import pandas as pd\n",
    "import numpy as np\n",
    "import seaborn as sns\n",
    "from matplotlib import pyplot as plt\n",
    "import sys\n",
    "import os\n",
    "\n",
    "sys.path.append(\"..\")\n",
    "\n",
    "%matplotlib inline\n",
    "%config InlineBackend.figure_format = 'retina'\n",
    "# plt.style.use('ggplot')\n",
    "plt.rcParams[\"axes.facecolor\"] = \"white\""
   ]
  },
  {
   "cell_type": "code",
   "execution_count": null,
   "id": "76a2a0c5",
   "metadata": {},
   "outputs": [],
   "source": [
    "from config import ROOT, SCHEME_87, PROVINCES_CHN2ENG\n",
    "\n",
    "os.chdir(ROOT)"
   ]
  },
  {
   "cell_type": "markdown",
   "id": "d2e2dec8",
   "metadata": {},
   "source": [
    "## Section 1. Water Use data\n",
    "\n",
    "**Abstract:**\n",
    "One-sentence description\n",
    "\n",
    "**Description:**\n",
    "In the following cell, I processed following three datasets:\n",
    "* Total Water Use\n",
    "* YR Water Use\n",
    "* YR Water Ratio"
   ]
  },
  {
   "cell_type": "markdown",
   "id": "68a4a98f",
   "metadata": {},
   "source": [
    "---\n",
    "**Relies**:\n",
    "1. China's Water Use datasets by [Feng Zhou et al., 2020](http://www.pnas.org/lookup/doi/10.1073/pnas.1909902117).\n",
    "2. Yellow River's Water Use data from [Water Resources Bulletin](http://www.yrcc.gov.cn/other/hhgb/) by YRCC\n"
   ]
  },
  {
   "cell_type": "markdown",
   "id": "1799b3b8",
   "metadata": {},
   "source": [
    "---\n",
    "**Digested purposes:**\n",
    "1. \n",
    "2. \n",
    "3. "
   ]
  },
  {
   "cell_type": "code",
   "execution_count": null,
   "id": "8390ddb4",
   "metadata": {},
   "outputs": [],
   "source": [
    "from matplotlib.gridspec import GridSpec\n",
    "\n",
    "data_yr = pd.read_csv(\n",
    "    os.path.join(ROOT, \"data/source/yr_consumption_1988-2000.csv\"), index_col=0\n",
    ")\n",
    "data_all = pd.read_csv(\n",
    "    os.path.join(ROOT, \"data/processed/merged_data.csv\"), index_col=0\n",
    ")\n",
    "\n",
    "### Total Water Use\n",
    "# New dataframe for cleaned Total_WU data storing.\n",
    "data = pd.DataFrame()\n",
    "data_all = data_all.groupby([\"Province\", \"Year\"])[\n",
    "    \"Total water use\"\n",
    "].sum()  # Sum up by province\n",
    "for province in SCHEME_87.keys():  # Filter used provinces\n",
    "    data[province] = data_all[province]\n",
    "data = data.loc[1988:2012, :] * 10  # units are different\n",
    "\n",
    "### YR Water use\n",
    "data_yr = data_yr.loc[1988:2012, :]\n",
    "data_yr.set_axis(\n",
    "    [PROVINCES_CHN2ENG[col] for col in data_yr.columns], axis=\"columns\", inplace=True\n",
    ")\n",
    "data_yr.index.name = \"Year\"\n",
    "\n",
    "### ratio\n",
    "# ratio = data_yr / data_all\n",
    "# ratio.head()\n",
    "\n",
    "data.to_csv(os.path.join(ROOT, \"data/processed/wu_all.csv\"))  # Yellow River Water Use\n",
    "data_yr.to_csv(os.path.join(ROOT, \"data/processed/wu_yr.csv\"))  # Total water use\n",
    "\n",
    "### Cleaned Dataset Plotting ###\n",
    "data.tail()\n",
    "data_yr.tail()"
   ]
  },
  {
   "cell_type": "code",
   "execution_count": null,
   "id": "e61255fd",
   "metadata": {},
   "outputs": [],
   "source": [
    "## Ratio\n",
    "wu_yr = pd.read_csv(os.path.join(ROOT, \"data/processed/wu_yr.csv\"), index_col=0)\n",
    "wu_total = pd.read_csv(os.path.join(ROOT, \"data/processed/wu_all.csv\"), index_col=0)\n",
    "ratio = wu_yr / wu_total\n",
    "\n",
    "# save and plot\n",
    "ratio.to_csv(os.path.join(ROOT, \"data/processed/ratio.csv\"))\n",
    "ratio.mean().plot.bar(\n",
    "    yerr=ratio.std(),\n",
    "    figsize=(10, 4),\n",
    "    rot=0,\n",
    "    xlabel=\"Provinces\",\n",
    "    ylabel=\"YR Water Use Ratio\",\n",
    ")"
   ]
  },
  {
   "cell_type": "markdown",
   "id": "436eab1d",
   "metadata": {},
   "source": [
    "**Output digestion:**\n",
    "\n",
    "---\n",
    "**Analysis:**\n",
    "可以看到，用水驱动主要有以下几个变量：\n",
    "- Year，年份，这些数据的年份都是从1975开始，到2013年\n",
    "- PIRR，潜在的灌溉用水需求，根据文章里说，是由全球水文模型跑出来的，因此有不小的不确定性。\n",
    "- AIRR，可供灌溉的淡水量，也是全球水文模型跑出来的\n",
    "- WCI，灌溉装备了节水面积的灌区占灌区总面积的比例，比如滴灌、管灌、渠道硬化\n",
    "- Ratio of industrial water recycling，工业用水是可以循环使用的，这是再利用的比例\n",
    "- Ratio of industrial water evaporated，这才算是工业真正的耗水，也就是工业用水中的多少是被消耗掉的\n",
    "\n",
    "对于该数据，有以下几个基本认识：\n",
    "\n",
    "- 最小的灌溉需求都有315mm， 但灌溉可供水量是有差异的，因此有的地方可能水赤字，这个赤字有可能从地下水补给，对分析带来较大的影响。这些模型跑出来的数据对定量分析帮助有限。\n",
    "- WUI直接由总用水量计算出，因此根本不能使用。\n",
    "- 可以使用农业和工业的节水设施变量参与预测：节水灌溉比例、工业再利用率、工业蒸发率（耗水）"
   ]
  },
  {
   "cell_type": "markdown",
   "id": "e3177bb5",
   "metadata": {},
   "source": [
    "## Section 2. Water Policy\n",
    "\n",
    "**Abstract:**\n",
    "One-sentence description\n",
    "\n",
    "**Description:**\n",
    "In the following cell, I...\n"
   ]
  },
  {
   "cell_type": "code",
   "execution_count": null,
   "id": "e8e86503",
   "metadata": {},
   "outputs": [],
   "source": [
    "quota = pd.read_csv(os.path.join(ROOT, \"data/source/water_quota.csv\"), index_col=0)\n",
    "quota = quota.set_axis([PROVINCES_CHN2ENG[col] for col in quota], axis=\"columns\")\n",
    "quota.to_csv(\"data/processed/quota.csv\")\n",
    "quota.head()"
   ]
  },
  {
   "cell_type": "code",
   "execution_count": null,
   "id": "67bb709f",
   "metadata": {},
   "outputs": [],
   "source": [
    "plan = pd.read_csv(os.path.join(ROOT, \"data/source/water_plan_1983.csv\"), index_col=0)\n",
    "plan = plan.set_axis([PROVINCES_CHN2ENG[col] for col in plan], axis=\"columns\")\n",
    "plan.index = [\"Ind\", \"Agr\", \"Sum\"]\n",
    "plan.index.name = \"plan\"\n",
    "\n",
    "plan.to_csv(\"data/processed/plan.csv\")\n",
    "plan.head()"
   ]
  }
 ],
 "metadata": {
  "kernelspec": {
   "display_name": "Python 3 (ipykernel)",
   "language": "python",
   "name": "python3"
  },
  "language_info": {
   "codemirror_mode": {
    "name": "ipython",
    "version": 3
   },
   "file_extension": ".py",
   "mimetype": "text/x-python",
   "name": "python",
   "nbconvert_exporter": "python",
   "pygments_lexer": "ipython3",
   "version": "3.11.2"
  }
 },
 "nbformat": 4,
 "nbformat_minor": 5
}
